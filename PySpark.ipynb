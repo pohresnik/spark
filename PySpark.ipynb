{
  "nbformat": 4,
  "nbformat_minor": 0,
  "metadata": {
    "colab": {
      "name": "[Студенты]Лекция 7.ipynb",
      "provenance": [],
      "collapsed_sections": [],
      "include_colab_link": true
    },
    "kernelspec": {
      "name": "python3",
      "display_name": "Python 3"
    }
  },
  "cells": [
    {
      "cell_type": "markdown",
      "metadata": {
        "id": "view-in-github",
        "colab_type": "text"
      },
      "source": [
        "<a href=\"https://colab.research.google.com/github/pohresnik/spark/blob/main/PySpark.ipynb\" target=\"_parent\"><img src=\"https://colab.research.google.com/assets/colab-badge.svg\" alt=\"Open In Colab\"/></a>"
      ]
    },
    {
      "cell_type": "markdown",
      "metadata": {
        "id": "XsNU9x5bdnRF"
      },
      "source": [
        "# Машинное обучение на PySpark"
      ]
    },
    {
      "cell_type": "markdown",
      "metadata": {
        "id": "5zls75ladrAQ"
      },
      "source": [
        "## Установка PySpark"
      ]
    },
    {
      "cell_type": "code",
      "metadata": {
        "id": "Q5XdW4eUdiwJ",
        "colab": {
          "base_uri": "https://localhost:8080/"
        },
        "outputId": "54228d5f-91b5-4882-f357-00e525897632"
      },
      "source": [
        "!apt-get update"
      ],
      "execution_count": null,
      "outputs": [
        {
          "output_type": "stream",
          "text": [
            "\r0% [Working]\r            \rGet:1 https://cloud.r-project.org/bin/linux/ubuntu bionic-cran40/ InRelease [3,626 B]\n",
            "Ign:2 https://developer.download.nvidia.com/compute/cuda/repos/ubuntu1804/x86_64  InRelease\n",
            "Ign:3 https://developer.download.nvidia.com/compute/machine-learning/repos/ubuntu1804/x86_64  InRelease\n",
            "Get:4 https://developer.download.nvidia.com/compute/cuda/repos/ubuntu1804/x86_64  Release [697 B]\n",
            "Get:5 http://ppa.launchpad.net/c2d4u.team/c2d4u4.0+/ubuntu bionic InRelease [15.9 kB]\n",
            "Hit:6 https://developer.download.nvidia.com/compute/machine-learning/repos/ubuntu1804/x86_64  Release\n",
            "Get:7 https://developer.download.nvidia.com/compute/cuda/repos/ubuntu1804/x86_64  Release.gpg [836 B]\n",
            "Get:8 http://security.ubuntu.com/ubuntu bionic-security InRelease [88.7 kB]\n",
            "Hit:9 http://archive.ubuntu.com/ubuntu bionic InRelease\n",
            "Get:10 http://archive.ubuntu.com/ubuntu bionic-updates InRelease [88.7 kB]\n",
            "Get:11 https://cloud.r-project.org/bin/linux/ubuntu bionic-cran40/ Packages [44.8 kB]\n",
            "Hit:12 http://ppa.launchpad.net/cran/libgit2/ubuntu bionic InRelease\n",
            "Hit:14 http://ppa.launchpad.net/graphics-drivers/ppa/ubuntu bionic InRelease\n",
            "Get:15 http://archive.ubuntu.com/ubuntu bionic-backports InRelease [74.6 kB]\n",
            "Ign:16 https://developer.download.nvidia.com/compute/cuda/repos/ubuntu1804/x86_64  Packages\n",
            "Get:16 https://developer.download.nvidia.com/compute/cuda/repos/ubuntu1804/x86_64  Packages [552 kB]\n",
            "Get:17 http://ppa.launchpad.net/c2d4u.team/c2d4u4.0+/ubuntu bionic/main Sources [1,729 kB]\n",
            "Get:18 http://security.ubuntu.com/ubuntu bionic-security/universe amd64 Packages [1,390 kB]\n",
            "Get:19 http://archive.ubuntu.com/ubuntu bionic-updates/universe amd64 Packages [2,161 kB]\n",
            "Get:20 http://ppa.launchpad.net/c2d4u.team/c2d4u4.0+/ubuntu bionic/main amd64 Packages [885 kB]\n",
            "Get:21 http://security.ubuntu.com/ubuntu bionic-security/main amd64 Packages [1,927 kB]\n",
            "Get:22 http://archive.ubuntu.com/ubuntu bionic-updates/main amd64 Packages [2,358 kB]\n",
            "Fetched 11.3 MB in 3s (3,516 kB/s)\n",
            "Reading package lists... Done\n"
          ],
          "name": "stdout"
        }
      ]
    },
    {
      "cell_type": "code",
      "metadata": {
        "id": "1HyDmS5WduU3"
      },
      "source": [
        "!apt-get install openjdk-8-jdk-headless -qq > /dev/null"
      ],
      "execution_count": null,
      "outputs": []
    },
    {
      "cell_type": "code",
      "metadata": {
        "id": "9yRaYSD6dux4"
      },
      "source": [
        "!wget -q www-us.apache.org/dist/spark/spark-2.4.7/spark-2.4.7-bin-hadoop2.7.tgz"
      ],
      "execution_count": null,
      "outputs": []
    },
    {
      "cell_type": "code",
      "metadata": {
        "id": "Z2MaC-k0dx8l",
        "colab": {
          "base_uri": "https://localhost:8080/"
        },
        "outputId": "92453578-d390-459b-dc3d-586679df4295"
      },
      "source": [
        "!tar -xvf spark-2.4.7-bin-hadoop2.7.tgz"
      ],
      "execution_count": null,
      "outputs": [
        {
          "output_type": "stream",
          "text": [
            "spark-2.4.7-bin-hadoop2.7/\n",
            "spark-2.4.7-bin-hadoop2.7/kubernetes/\n",
            "spark-2.4.7-bin-hadoop2.7/kubernetes/tests/\n",
            "spark-2.4.7-bin-hadoop2.7/kubernetes/tests/py_container_checks.py\n",
            "spark-2.4.7-bin-hadoop2.7/kubernetes/tests/pyfiles.py\n",
            "spark-2.4.7-bin-hadoop2.7/kubernetes/tests/worker_memory_check.py\n",
            "spark-2.4.7-bin-hadoop2.7/kubernetes/dockerfiles/\n",
            "spark-2.4.7-bin-hadoop2.7/kubernetes/dockerfiles/spark/\n",
            "spark-2.4.7-bin-hadoop2.7/kubernetes/dockerfiles/spark/entrypoint.sh\n",
            "spark-2.4.7-bin-hadoop2.7/kubernetes/dockerfiles/spark/bindings/\n",
            "spark-2.4.7-bin-hadoop2.7/kubernetes/dockerfiles/spark/bindings/python/\n",
            "spark-2.4.7-bin-hadoop2.7/kubernetes/dockerfiles/spark/bindings/python/Dockerfile\n",
            "spark-2.4.7-bin-hadoop2.7/kubernetes/dockerfiles/spark/bindings/R/\n",
            "spark-2.4.7-bin-hadoop2.7/kubernetes/dockerfiles/spark/bindings/R/Dockerfile\n",
            "spark-2.4.7-bin-hadoop2.7/kubernetes/dockerfiles/spark/Dockerfile\n",
            "spark-2.4.7-bin-hadoop2.7/NOTICE\n",
            "spark-2.4.7-bin-hadoop2.7/data/\n",
            "spark-2.4.7-bin-hadoop2.7/data/streaming/\n",
            "spark-2.4.7-bin-hadoop2.7/data/streaming/AFINN-111.txt\n",
            "spark-2.4.7-bin-hadoop2.7/data/mllib/\n",
            "spark-2.4.7-bin-hadoop2.7/data/mllib/sample_multiclass_classification_data.txt\n",
            "spark-2.4.7-bin-hadoop2.7/data/mllib/streaming_kmeans_data_test.txt\n",
            "spark-2.4.7-bin-hadoop2.7/data/mllib/ridge-data/\n",
            "spark-2.4.7-bin-hadoop2.7/data/mllib/ridge-data/lpsa.data\n",
            "spark-2.4.7-bin-hadoop2.7/data/mllib/als/\n",
            "spark-2.4.7-bin-hadoop2.7/data/mllib/als/test.data\n",
            "spark-2.4.7-bin-hadoop2.7/data/mllib/als/sample_movielens_ratings.txt\n",
            "spark-2.4.7-bin-hadoop2.7/data/mllib/sample_svm_data.txt\n",
            "spark-2.4.7-bin-hadoop2.7/data/mllib/images/\n",
            "spark-2.4.7-bin-hadoop2.7/data/mllib/images/origin/\n",
            "spark-2.4.7-bin-hadoop2.7/data/mllib/images/origin/license.txt\n",
            "spark-2.4.7-bin-hadoop2.7/data/mllib/images/origin/multi-channel/\n",
            "spark-2.4.7-bin-hadoop2.7/data/mllib/images/origin/multi-channel/grayscale.jpg\n",
            "spark-2.4.7-bin-hadoop2.7/data/mllib/images/origin/multi-channel/BGRA_alpha_60.png\n",
            "spark-2.4.7-bin-hadoop2.7/data/mllib/images/origin/multi-channel/chr30.4.184.jpg\n",
            "spark-2.4.7-bin-hadoop2.7/data/mllib/images/origin/multi-channel/BGRA.png\n",
            "spark-2.4.7-bin-hadoop2.7/data/mllib/images/origin/kittens/\n",
            "spark-2.4.7-bin-hadoop2.7/data/mllib/images/origin/kittens/not-image.txt\n",
            "spark-2.4.7-bin-hadoop2.7/data/mllib/images/origin/kittens/29.5.a_b_EGDP022204.jpg\n",
            "spark-2.4.7-bin-hadoop2.7/data/mllib/images/origin/kittens/54893.jpg\n",
            "spark-2.4.7-bin-hadoop2.7/data/mllib/images/origin/kittens/DP153539.jpg\n",
            "spark-2.4.7-bin-hadoop2.7/data/mllib/images/origin/kittens/DP802813.jpg\n",
            "spark-2.4.7-bin-hadoop2.7/data/mllib/images/partitioned/\n",
            "spark-2.4.7-bin-hadoop2.7/data/mllib/images/partitioned/cls=multichannel/\n",
            "spark-2.4.7-bin-hadoop2.7/data/mllib/images/partitioned/cls=multichannel/date=2018-01/\n",
            "spark-2.4.7-bin-hadoop2.7/data/mllib/images/partitioned/cls=multichannel/date=2018-01/BGRA_alpha_60.png\n",
            "spark-2.4.7-bin-hadoop2.7/data/mllib/images/partitioned/cls=multichannel/date=2018-01/BGRA.png\n",
            "spark-2.4.7-bin-hadoop2.7/data/mllib/images/partitioned/cls=multichannel/date=2018-02/\n",
            "spark-2.4.7-bin-hadoop2.7/data/mllib/images/partitioned/cls=multichannel/date=2018-02/grayscale.jpg\n",
            "spark-2.4.7-bin-hadoop2.7/data/mllib/images/partitioned/cls=multichannel/date=2018-02/chr30.4.184.jpg\n",
            "spark-2.4.7-bin-hadoop2.7/data/mllib/images/partitioned/cls=kittens/\n",
            "spark-2.4.7-bin-hadoop2.7/data/mllib/images/partitioned/cls=kittens/date=2018-01/\n",
            "spark-2.4.7-bin-hadoop2.7/data/mllib/images/partitioned/cls=kittens/date=2018-01/not-image.txt\n",
            "spark-2.4.7-bin-hadoop2.7/data/mllib/images/partitioned/cls=kittens/date=2018-01/29.5.a_b_EGDP022204.jpg\n",
            "spark-2.4.7-bin-hadoop2.7/data/mllib/images/partitioned/cls=kittens/date=2018-02/\n",
            "spark-2.4.7-bin-hadoop2.7/data/mllib/images/partitioned/cls=kittens/date=2018-02/54893.jpg\n",
            "spark-2.4.7-bin-hadoop2.7/data/mllib/images/partitioned/cls=kittens/date=2018-02/DP153539.jpg\n",
            "spark-2.4.7-bin-hadoop2.7/data/mllib/images/partitioned/cls=kittens/date=2018-02/DP802813.jpg\n",
            "spark-2.4.7-bin-hadoop2.7/data/mllib/images/license.txt\n",
            "spark-2.4.7-bin-hadoop2.7/data/mllib/sample_fpgrowth.txt\n",
            "spark-2.4.7-bin-hadoop2.7/data/mllib/iris_libsvm.txt\n",
            "spark-2.4.7-bin-hadoop2.7/data/mllib/sample_lda_data.txt\n",
            "spark-2.4.7-bin-hadoop2.7/data/mllib/sample_movielens_data.txt\n",
            "spark-2.4.7-bin-hadoop2.7/data/mllib/sample_binary_classification_data.txt\n",
            "spark-2.4.7-bin-hadoop2.7/data/mllib/sample_lda_libsvm_data.txt\n",
            "spark-2.4.7-bin-hadoop2.7/data/mllib/pagerank_data.txt\n",
            "spark-2.4.7-bin-hadoop2.7/data/mllib/sample_linear_regression_data.txt\n",
            "spark-2.4.7-bin-hadoop2.7/data/mllib/gmm_data.txt\n",
            "spark-2.4.7-bin-hadoop2.7/data/mllib/sample_kmeans_data.txt\n",
            "spark-2.4.7-bin-hadoop2.7/data/mllib/pic_data.txt\n",
            "spark-2.4.7-bin-hadoop2.7/data/mllib/kmeans_data.txt\n",
            "spark-2.4.7-bin-hadoop2.7/data/mllib/sample_isotonic_regression_libsvm_data.txt\n",
            "spark-2.4.7-bin-hadoop2.7/data/mllib/sample_libsvm_data.txt\n",
            "spark-2.4.7-bin-hadoop2.7/data/graphx/\n",
            "spark-2.4.7-bin-hadoop2.7/data/graphx/followers.txt\n",
            "spark-2.4.7-bin-hadoop2.7/data/graphx/users.txt\n",
            "spark-2.4.7-bin-hadoop2.7/README.md\n",
            "spark-2.4.7-bin-hadoop2.7/conf/\n",
            "spark-2.4.7-bin-hadoop2.7/conf/docker.properties.template\n",
            "spark-2.4.7-bin-hadoop2.7/conf/spark-env.sh.template\n",
            "spark-2.4.7-bin-hadoop2.7/conf/metrics.properties.template\n",
            "spark-2.4.7-bin-hadoop2.7/conf/log4j.properties.template\n",
            "spark-2.4.7-bin-hadoop2.7/conf/spark-defaults.conf.template\n",
            "spark-2.4.7-bin-hadoop2.7/conf/fairscheduler.xml.template\n",
            "spark-2.4.7-bin-hadoop2.7/conf/slaves.template\n",
            "spark-2.4.7-bin-hadoop2.7/licenses/\n",
            "spark-2.4.7-bin-hadoop2.7/licenses/LICENSE-jline.txt\n",
            "spark-2.4.7-bin-hadoop2.7/licenses/LICENSE-javolution.txt\n",
            "spark-2.4.7-bin-hadoop2.7/licenses/LICENSE-heapq.txt\n",
            "spark-2.4.7-bin-hadoop2.7/licenses/LICENSE-dagre-d3.txt\n",
            "spark-2.4.7-bin-hadoop2.7/licenses/LICENSE-modernizr.txt\n",
            "spark-2.4.7-bin-hadoop2.7/licenses/LICENSE-bootstrap.txt\n",
            "spark-2.4.7-bin-hadoop2.7/licenses/LICENSE-mustache.txt\n",
            "spark-2.4.7-bin-hadoop2.7/licenses/LICENSE-respond.txt\n",
            "spark-2.4.7-bin-hadoop2.7/licenses/LICENSE-jtransforms.html\n",
            "spark-2.4.7-bin-hadoop2.7/licenses/LICENSE-zstd-jni.txt\n",
            "spark-2.4.7-bin-hadoop2.7/licenses/LICENSE-vis-timeline.txt\n",
            "spark-2.4.7-bin-hadoop2.7/licenses/LICENSE-protobuf.txt\n",
            "spark-2.4.7-bin-hadoop2.7/licenses/LICENSE-netlib.txt\n",
            "spark-2.4.7-bin-hadoop2.7/licenses/LICENSE-xmlenc.txt\n",
            "spark-2.4.7-bin-hadoop2.7/licenses/LICENSE-reflectasm.txt\n",
            "spark-2.4.7-bin-hadoop2.7/licenses/LICENSE-jodd.txt\n",
            "spark-2.4.7-bin-hadoop2.7/licenses/LICENSE-arpack.txt\n",
            "spark-2.4.7-bin-hadoop2.7/licenses/LICENSE-zstd.txt\n",
            "spark-2.4.7-bin-hadoop2.7/licenses/LICENSE-machinist.txt\n",
            "spark-2.4.7-bin-hadoop2.7/licenses/LICENSE-CC0.txt\n",
            "spark-2.4.7-bin-hadoop2.7/licenses/LICENSE-leveldbjni.txt\n",
            "spark-2.4.7-bin-hadoop2.7/licenses/LICENSE-minlog.txt\n",
            "spark-2.4.7-bin-hadoop2.7/licenses/LICENSE-spire.txt\n",
            "spark-2.4.7-bin-hadoop2.7/licenses/LICENSE-scala.txt\n",
            "spark-2.4.7-bin-hadoop2.7/licenses/LICENSE-janino.txt\n",
            "spark-2.4.7-bin-hadoop2.7/licenses/LICENSE-antlr.txt\n",
            "spark-2.4.7-bin-hadoop2.7/licenses/LICENSE-AnchorJS.txt\n",
            "spark-2.4.7-bin-hadoop2.7/licenses/LICENSE-cloudpickle.txt\n",
            "spark-2.4.7-bin-hadoop2.7/licenses/LICENSE-f2j.txt\n",
            "spark-2.4.7-bin-hadoop2.7/licenses/LICENSE-graphlib-dot.txt\n",
            "spark-2.4.7-bin-hadoop2.7/licenses/LICENSE-pyrolite.txt\n",
            "spark-2.4.7-bin-hadoop2.7/licenses/LICENSE-datatables.txt\n",
            "spark-2.4.7-bin-hadoop2.7/licenses/LICENSE-kryo.txt\n",
            "spark-2.4.7-bin-hadoop2.7/licenses/LICENSE-join.txt\n",
            "spark-2.4.7-bin-hadoop2.7/licenses/LICENSE-scopt.txt\n",
            "spark-2.4.7-bin-hadoop2.7/licenses/LICENSE-sbt-launch-lib.txt\n",
            "spark-2.4.7-bin-hadoop2.7/licenses/LICENSE-paranamer.txt\n",
            "spark-2.4.7-bin-hadoop2.7/licenses/LICENSE-d3.min.js.txt\n",
            "spark-2.4.7-bin-hadoop2.7/licenses/LICENSE-automaton.txt\n",
            "spark-2.4.7-bin-hadoop2.7/licenses/LICENSE-slf4j.txt\n",
            "spark-2.4.7-bin-hadoop2.7/licenses/LICENSE-matchMedia-polyfill.txt\n",
            "spark-2.4.7-bin-hadoop2.7/licenses/LICENSE-javassist.html\n",
            "spark-2.4.7-bin-hadoop2.7/licenses/LICENSE-pmml-model.txt\n",
            "spark-2.4.7-bin-hadoop2.7/licenses/LICENSE-jquery.txt\n",
            "spark-2.4.7-bin-hadoop2.7/licenses/LICENSE-sorttable.js.txt\n",
            "spark-2.4.7-bin-hadoop2.7/licenses/LICENSE-py4j.txt\n",
            "spark-2.4.7-bin-hadoop2.7/licenses/LICENSE-json-formatter.txt\n",
            "spark-2.4.7-bin-hadoop2.7/yarn/\n",
            "spark-2.4.7-bin-hadoop2.7/yarn/spark-2.4.7-yarn-shuffle.jar\n",
            "spark-2.4.7-bin-hadoop2.7/bin/\n",
            "spark-2.4.7-bin-hadoop2.7/bin/spark-shell\n",
            "spark-2.4.7-bin-hadoop2.7/bin/spark-sql.cmd\n",
            "spark-2.4.7-bin-hadoop2.7/bin/spark-shell2.cmd\n",
            "spark-2.4.7-bin-hadoop2.7/bin/find-spark-home.cmd\n",
            "spark-2.4.7-bin-hadoop2.7/bin/load-spark-env.sh\n",
            "spark-2.4.7-bin-hadoop2.7/bin/beeline.cmd\n",
            "spark-2.4.7-bin-hadoop2.7/bin/spark-class\n",
            "spark-2.4.7-bin-hadoop2.7/bin/sparkR2.cmd\n",
            "spark-2.4.7-bin-hadoop2.7/bin/run-example\n",
            "spark-2.4.7-bin-hadoop2.7/bin/sparkR\n",
            "spark-2.4.7-bin-hadoop2.7/bin/pyspark2.cmd\n",
            "spark-2.4.7-bin-hadoop2.7/bin/run-example.cmd\n",
            "spark-2.4.7-bin-hadoop2.7/bin/spark-sql2.cmd\n",
            "spark-2.4.7-bin-hadoop2.7/bin/spark-submit\n",
            "spark-2.4.7-bin-hadoop2.7/bin/spark-shell.cmd\n",
            "spark-2.4.7-bin-hadoop2.7/bin/docker-image-tool.sh\n",
            "spark-2.4.7-bin-hadoop2.7/bin/find-spark-home\n",
            "spark-2.4.7-bin-hadoop2.7/bin/sparkR.cmd\n",
            "spark-2.4.7-bin-hadoop2.7/bin/load-spark-env.cmd\n",
            "spark-2.4.7-bin-hadoop2.7/bin/pyspark\n",
            "spark-2.4.7-bin-hadoop2.7/bin/beeline\n",
            "spark-2.4.7-bin-hadoop2.7/bin/spark-sql\n",
            "spark-2.4.7-bin-hadoop2.7/bin/spark-submit.cmd\n",
            "spark-2.4.7-bin-hadoop2.7/bin/spark-submit2.cmd\n",
            "spark-2.4.7-bin-hadoop2.7/bin/spark-class2.cmd\n",
            "spark-2.4.7-bin-hadoop2.7/bin/pyspark.cmd\n",
            "spark-2.4.7-bin-hadoop2.7/bin/spark-class.cmd\n",
            "spark-2.4.7-bin-hadoop2.7/sbin/\n",
            "spark-2.4.7-bin-hadoop2.7/sbin/stop-shuffle-service.sh\n",
            "spark-2.4.7-bin-hadoop2.7/sbin/start-master.sh\n",
            "spark-2.4.7-bin-hadoop2.7/sbin/start-mesos-dispatcher.sh\n",
            "spark-2.4.7-bin-hadoop2.7/sbin/stop-slave.sh\n",
            "spark-2.4.7-bin-hadoop2.7/sbin/stop-thriftserver.sh\n",
            "spark-2.4.7-bin-hadoop2.7/sbin/stop-history-server.sh\n",
            "spark-2.4.7-bin-hadoop2.7/sbin/start-thriftserver.sh\n",
            "spark-2.4.7-bin-hadoop2.7/sbin/stop-master.sh\n",
            "spark-2.4.7-bin-hadoop2.7/sbin/start-history-server.sh\n",
            "spark-2.4.7-bin-hadoop2.7/sbin/stop-mesos-shuffle-service.sh\n",
            "spark-2.4.7-bin-hadoop2.7/sbin/stop-mesos-dispatcher.sh\n",
            "spark-2.4.7-bin-hadoop2.7/sbin/stop-all.sh\n",
            "spark-2.4.7-bin-hadoop2.7/sbin/start-mesos-shuffle-service.sh\n",
            "spark-2.4.7-bin-hadoop2.7/sbin/start-slaves.sh\n",
            "spark-2.4.7-bin-hadoop2.7/sbin/spark-config.sh\n",
            "spark-2.4.7-bin-hadoop2.7/sbin/start-shuffle-service.sh\n",
            "spark-2.4.7-bin-hadoop2.7/sbin/start-slave.sh\n",
            "spark-2.4.7-bin-hadoop2.7/sbin/spark-daemons.sh\n",
            "spark-2.4.7-bin-hadoop2.7/sbin/start-all.sh\n",
            "spark-2.4.7-bin-hadoop2.7/sbin/spark-daemon.sh\n",
            "spark-2.4.7-bin-hadoop2.7/sbin/slaves.sh\n",
            "spark-2.4.7-bin-hadoop2.7/sbin/stop-slaves.sh\n",
            "spark-2.4.7-bin-hadoop2.7/LICENSE\n",
            "spark-2.4.7-bin-hadoop2.7/python/\n",
            "spark-2.4.7-bin-hadoop2.7/python/setup.py\n",
            "spark-2.4.7-bin-hadoop2.7/python/pylintrc\n",
            "spark-2.4.7-bin-hadoop2.7/python/README.md\n",
            "spark-2.4.7-bin-hadoop2.7/python/run-tests.py\n",
            "spark-2.4.7-bin-hadoop2.7/python/.coveragerc\n",
            "spark-2.4.7-bin-hadoop2.7/python/run-tests-with-coverage\n",
            "spark-2.4.7-bin-hadoop2.7/python/.gitignore\n",
            "spark-2.4.7-bin-hadoop2.7/python/test_support/\n",
            "spark-2.4.7-bin-hadoop2.7/python/test_support/userlibrary.py\n",
            "spark-2.4.7-bin-hadoop2.7/python/test_support/sql/\n",
            "spark-2.4.7-bin-hadoop2.7/python/test_support/sql/parquet_partitioned/\n",
            "spark-2.4.7-bin-hadoop2.7/python/test_support/sql/parquet_partitioned/_SUCCESS\n",
            "spark-2.4.7-bin-hadoop2.7/python/test_support/sql/parquet_partitioned/year=2014/\n",
            "spark-2.4.7-bin-hadoop2.7/python/test_support/sql/parquet_partitioned/year=2014/month=9/\n",
            "spark-2.4.7-bin-hadoop2.7/python/test_support/sql/parquet_partitioned/year=2014/month=9/day=1/\n",
            "spark-2.4.7-bin-hadoop2.7/python/test_support/sql/parquet_partitioned/year=2014/month=9/day=1/.part-r-00008.gz.parquet.crc\n",
            "spark-2.4.7-bin-hadoop2.7/python/test_support/sql/parquet_partitioned/year=2014/month=9/day=1/part-r-00008.gz.parquet\n",
            "spark-2.4.7-bin-hadoop2.7/python/test_support/sql/parquet_partitioned/year=2015/\n",
            "spark-2.4.7-bin-hadoop2.7/python/test_support/sql/parquet_partitioned/year=2015/month=10/\n",
            "spark-2.4.7-bin-hadoop2.7/python/test_support/sql/parquet_partitioned/year=2015/month=10/day=26/\n",
            "spark-2.4.7-bin-hadoop2.7/python/test_support/sql/parquet_partitioned/year=2015/month=10/day=26/part-r-00005.gz.parquet\n",
            "spark-2.4.7-bin-hadoop2.7/python/test_support/sql/parquet_partitioned/year=2015/month=10/day=26/.part-r-00005.gz.parquet.crc\n",
            "spark-2.4.7-bin-hadoop2.7/python/test_support/sql/parquet_partitioned/year=2015/month=10/day=25/\n",
            "spark-2.4.7-bin-hadoop2.7/python/test_support/sql/parquet_partitioned/year=2015/month=10/day=25/part-r-00002.gz.parquet\n",
            "spark-2.4.7-bin-hadoop2.7/python/test_support/sql/parquet_partitioned/year=2015/month=10/day=25/.part-r-00002.gz.parquet.crc\n",
            "spark-2.4.7-bin-hadoop2.7/python/test_support/sql/parquet_partitioned/year=2015/month=10/day=25/.part-r-00004.gz.parquet.crc\n",
            "spark-2.4.7-bin-hadoop2.7/python/test_support/sql/parquet_partitioned/year=2015/month=10/day=25/part-r-00004.gz.parquet\n",
            "spark-2.4.7-bin-hadoop2.7/python/test_support/sql/parquet_partitioned/year=2015/month=9/\n",
            "spark-2.4.7-bin-hadoop2.7/python/test_support/sql/parquet_partitioned/year=2015/month=9/day=1/\n",
            "spark-2.4.7-bin-hadoop2.7/python/test_support/sql/parquet_partitioned/year=2015/month=9/day=1/.part-r-00007.gz.parquet.crc\n",
            "spark-2.4.7-bin-hadoop2.7/python/test_support/sql/parquet_partitioned/year=2015/month=9/day=1/part-r-00007.gz.parquet\n",
            "spark-2.4.7-bin-hadoop2.7/python/test_support/sql/parquet_partitioned/_metadata\n",
            "spark-2.4.7-bin-hadoop2.7/python/test_support/sql/parquet_partitioned/_common_metadata\n",
            "spark-2.4.7-bin-hadoop2.7/python/test_support/sql/people_array.json\n",
            "spark-2.4.7-bin-hadoop2.7/python/test_support/sql/ages.csv\n",
            "spark-2.4.7-bin-hadoop2.7/python/test_support/sql/ages_newlines.csv\n",
            "spark-2.4.7-bin-hadoop2.7/python/test_support/sql/people_array_utf16le.json\n",
            "spark-2.4.7-bin-hadoop2.7/python/test_support/sql/people1.json\n",
            "spark-2.4.7-bin-hadoop2.7/python/test_support/sql/people.json\n",
            "spark-2.4.7-bin-hadoop2.7/python/test_support/sql/orc_partitioned/\n",
            "spark-2.4.7-bin-hadoop2.7/python/test_support/sql/orc_partitioned/_SUCCESS\n",
            "spark-2.4.7-bin-hadoop2.7/python/test_support/sql/orc_partitioned/b=0/\n",
            "spark-2.4.7-bin-hadoop2.7/python/test_support/sql/orc_partitioned/b=0/c=0/\n",
            "spark-2.4.7-bin-hadoop2.7/python/test_support/sql/orc_partitioned/b=0/c=0/part-r-00000-829af031-b970-49d6-ad39-30460a0be2c8.orc\n",
            "spark-2.4.7-bin-hadoop2.7/python/test_support/sql/orc_partitioned/b=0/c=0/.part-r-00000-829af031-b970-49d6-ad39-30460a0be2c8.orc.crc\n",
            "spark-2.4.7-bin-hadoop2.7/python/test_support/sql/orc_partitioned/b=1/\n",
            "spark-2.4.7-bin-hadoop2.7/python/test_support/sql/orc_partitioned/b=1/c=1/\n",
            "spark-2.4.7-bin-hadoop2.7/python/test_support/sql/orc_partitioned/b=1/c=1/part-r-00000-829af031-b970-49d6-ad39-30460a0be2c8.orc\n",
            "spark-2.4.7-bin-hadoop2.7/python/test_support/sql/orc_partitioned/b=1/c=1/.part-r-00000-829af031-b970-49d6-ad39-30460a0be2c8.orc.crc\n",
            "spark-2.4.7-bin-hadoop2.7/python/test_support/sql/streaming/\n",
            "spark-2.4.7-bin-hadoop2.7/python/test_support/sql/streaming/text-test.txt\n",
            "spark-2.4.7-bin-hadoop2.7/python/test_support/sql/text-test.txt\n",
            "spark-2.4.7-bin-hadoop2.7/python/test_support/userlib-0.1.zip\n",
            "spark-2.4.7-bin-hadoop2.7/python/test_support/SimpleHTTPServer.py\n",
            "spark-2.4.7-bin-hadoop2.7/python/test_support/hello/\n",
            "spark-2.4.7-bin-hadoop2.7/python/test_support/hello/sub_hello/\n",
            "spark-2.4.7-bin-hadoop2.7/python/test_support/hello/sub_hello/sub_hello.txt\n",
            "spark-2.4.7-bin-hadoop2.7/python/test_support/hello/hello.txt\n",
            "spark-2.4.7-bin-hadoop2.7/python/MANIFEST.in\n",
            "spark-2.4.7-bin-hadoop2.7/python/lib/\n",
            "spark-2.4.7-bin-hadoop2.7/python/lib/PY4J_LICENSE.txt\n",
            "spark-2.4.7-bin-hadoop2.7/python/lib/pyspark.zip\n",
            "spark-2.4.7-bin-hadoop2.7/python/lib/py4j-0.10.7-src.zip\n",
            "spark-2.4.7-bin-hadoop2.7/python/pyspark/\n",
            "spark-2.4.7-bin-hadoop2.7/python/pyspark/find_spark_home.py\n",
            "spark-2.4.7-bin-hadoop2.7/python/pyspark/serializers.py\n",
            "spark-2.4.7-bin-hadoop2.7/python/pyspark/__init__.py\n",
            "spark-2.4.7-bin-hadoop2.7/python/pyspark/util.py\n",
            "spark-2.4.7-bin-hadoop2.7/python/pyspark/_globals.py\n",
            "spark-2.4.7-bin-hadoop2.7/python/pyspark/heapq3.py\n",
            "spark-2.4.7-bin-hadoop2.7/python/pyspark/cloudpickle.py\n",
            "spark-2.4.7-bin-hadoop2.7/python/pyspark/version.py\n",
            "spark-2.4.7-bin-hadoop2.7/python/pyspark/shell.py\n",
            "spark-2.4.7-bin-hadoop2.7/python/pyspark/traceback_utils.py\n",
            "spark-2.4.7-bin-hadoop2.7/python/pyspark/taskcontext.py\n",
            "spark-2.4.7-bin-hadoop2.7/python/pyspark/worker.py\n",
            "spark-2.4.7-bin-hadoop2.7/python/pyspark/daemon.py\n",
            "spark-2.4.7-bin-hadoop2.7/python/pyspark/statcounter.py\n",
            "spark-2.4.7-bin-hadoop2.7/python/pyspark/java_gateway.py\n",
            "spark-2.4.7-bin-hadoop2.7/python/pyspark/context.py\n",
            "spark-2.4.7-bin-hadoop2.7/python/pyspark/sql/\n",
            "spark-2.4.7-bin-hadoop2.7/python/pyspark/sql/readwriter.py\n",
            "spark-2.4.7-bin-hadoop2.7/python/pyspark/sql/streaming.py\n",
            "spark-2.4.7-bin-hadoop2.7/python/pyspark/sql/__init__.py\n",
            "spark-2.4.7-bin-hadoop2.7/python/pyspark/sql/utils.py\n",
            "spark-2.4.7-bin-hadoop2.7/python/pyspark/sql/udf.py\n",
            "spark-2.4.7-bin-hadoop2.7/python/pyspark/sql/session.py\n",
            "spark-2.4.7-bin-hadoop2.7/python/pyspark/sql/dataframe.py\n",
            "spark-2.4.7-bin-hadoop2.7/python/pyspark/sql/column.py\n",
            "spark-2.4.7-bin-hadoop2.7/python/pyspark/sql/context.py\n",
            "spark-2.4.7-bin-hadoop2.7/python/pyspark/sql/functions.py\n",
            "spark-2.4.7-bin-hadoop2.7/python/pyspark/sql/types.py\n",
            "spark-2.4.7-bin-hadoop2.7/python/pyspark/sql/catalog.py\n",
            "spark-2.4.7-bin-hadoop2.7/python/pyspark/sql/tests.py\n",
            "spark-2.4.7-bin-hadoop2.7/python/pyspark/sql/conf.py\n",
            "spark-2.4.7-bin-hadoop2.7/python/pyspark/sql/window.py\n",
            "spark-2.4.7-bin-hadoop2.7/python/pyspark/sql/group.py\n",
            "spark-2.4.7-bin-hadoop2.7/python/pyspark/shuffle.py\n",
            "spark-2.4.7-bin-hadoop2.7/python/pyspark/test_serializers.py\n",
            "spark-2.4.7-bin-hadoop2.7/python/pyspark/rddsampler.py\n",
            "spark-2.4.7-bin-hadoop2.7/python/pyspark/files.py\n",
            "spark-2.4.7-bin-hadoop2.7/python/pyspark/join.py\n",
            "spark-2.4.7-bin-hadoop2.7/python/pyspark/profiler.py\n",
            "spark-2.4.7-bin-hadoop2.7/python/pyspark/streaming/\n",
            "spark-2.4.7-bin-hadoop2.7/python/pyspark/streaming/__init__.py\n",
            "spark-2.4.7-bin-hadoop2.7/python/pyspark/streaming/util.py\n",
            "spark-2.4.7-bin-hadoop2.7/python/pyspark/streaming/flume.py\n",
            "spark-2.4.7-bin-hadoop2.7/python/pyspark/streaming/context.py\n",
            "spark-2.4.7-bin-hadoop2.7/python/pyspark/streaming/listener.py\n",
            "spark-2.4.7-bin-hadoop2.7/python/pyspark/streaming/kafka.py\n",
            "spark-2.4.7-bin-hadoop2.7/python/pyspark/streaming/kinesis.py\n",
            "spark-2.4.7-bin-hadoop2.7/python/pyspark/streaming/dstream.py\n",
            "spark-2.4.7-bin-hadoop2.7/python/pyspark/streaming/tests.py\n",
            "spark-2.4.7-bin-hadoop2.7/python/pyspark/ml/\n",
            "spark-2.4.7-bin-hadoop2.7/python/pyspark/ml/recommendation.py\n",
            "spark-2.4.7-bin-hadoop2.7/python/pyspark/ml/linalg/\n",
            "spark-2.4.7-bin-hadoop2.7/python/pyspark/ml/linalg/__init__.py\n",
            "spark-2.4.7-bin-hadoop2.7/python/pyspark/ml/clustering.py\n",
            "spark-2.4.7-bin-hadoop2.7/python/pyspark/ml/__init__.py\n",
            "spark-2.4.7-bin-hadoop2.7/python/pyspark/ml/tuning.py\n",
            "spark-2.4.7-bin-hadoop2.7/python/pyspark/ml/util.py\n",
            "spark-2.4.7-bin-hadoop2.7/python/pyspark/ml/classification.py\n",
            "spark-2.4.7-bin-hadoop2.7/python/pyspark/ml/wrapper.py\n",
            "spark-2.4.7-bin-hadoop2.7/python/pyspark/ml/param/\n",
            "spark-2.4.7-bin-hadoop2.7/python/pyspark/ml/param/__init__.py\n",
            "spark-2.4.7-bin-hadoop2.7/python/pyspark/ml/param/_shared_params_code_gen.py\n",
            "spark-2.4.7-bin-hadoop2.7/python/pyspark/ml/param/shared.py\n",
            "spark-2.4.7-bin-hadoop2.7/python/pyspark/ml/feature.py\n",
            "spark-2.4.7-bin-hadoop2.7/python/pyspark/ml/regression.py\n",
            "spark-2.4.7-bin-hadoop2.7/python/pyspark/ml/stat.py\n",
            "spark-2.4.7-bin-hadoop2.7/python/pyspark/ml/common.py\n",
            "spark-2.4.7-bin-hadoop2.7/python/pyspark/ml/evaluation.py\n",
            "spark-2.4.7-bin-hadoop2.7/python/pyspark/ml/tests.py\n",
            "spark-2.4.7-bin-hadoop2.7/python/pyspark/ml/image.py\n",
            "spark-2.4.7-bin-hadoop2.7/python/pyspark/ml/pipeline.py\n",
            "spark-2.4.7-bin-hadoop2.7/python/pyspark/ml/fpm.py\n",
            "spark-2.4.7-bin-hadoop2.7/python/pyspark/ml/base.py\n",
            "spark-2.4.7-bin-hadoop2.7/python/pyspark/resultiterable.py\n",
            "spark-2.4.7-bin-hadoop2.7/python/pyspark/tests.py\n",
            "spark-2.4.7-bin-hadoop2.7/python/pyspark/conf.py\n",
            "spark-2.4.7-bin-hadoop2.7/python/pyspark/broadcast.py\n",
            "spark-2.4.7-bin-hadoop2.7/python/pyspark/accumulators.py\n",
            "spark-2.4.7-bin-hadoop2.7/python/pyspark/python/\n",
            "spark-2.4.7-bin-hadoop2.7/python/pyspark/python/pyspark/\n",
            "spark-2.4.7-bin-hadoop2.7/python/pyspark/python/pyspark/shell.py\n",
            "spark-2.4.7-bin-hadoop2.7/python/pyspark/status.py\n",
            "spark-2.4.7-bin-hadoop2.7/python/pyspark/test_broadcast.py\n",
            "spark-2.4.7-bin-hadoop2.7/python/pyspark/mllib/\n",
            "spark-2.4.7-bin-hadoop2.7/python/pyspark/mllib/recommendation.py\n",
            "spark-2.4.7-bin-hadoop2.7/python/pyspark/mllib/linalg/\n",
            "spark-2.4.7-bin-hadoop2.7/python/pyspark/mllib/linalg/distributed.py\n",
            "spark-2.4.7-bin-hadoop2.7/python/pyspark/mllib/linalg/__init__.py\n",
            "spark-2.4.7-bin-hadoop2.7/python/pyspark/mllib/clustering.py\n",
            "spark-2.4.7-bin-hadoop2.7/python/pyspark/mllib/random.py\n",
            "spark-2.4.7-bin-hadoop2.7/python/pyspark/mllib/__init__.py\n",
            "spark-2.4.7-bin-hadoop2.7/python/pyspark/mllib/util.py\n",
            "spark-2.4.7-bin-hadoop2.7/python/pyspark/mllib/classification.py\n",
            "spark-2.4.7-bin-hadoop2.7/python/pyspark/mllib/stat/\n",
            "spark-2.4.7-bin-hadoop2.7/python/pyspark/mllib/stat/_statistics.py\n",
            "spark-2.4.7-bin-hadoop2.7/python/pyspark/mllib/stat/__init__.py\n",
            "spark-2.4.7-bin-hadoop2.7/python/pyspark/mllib/stat/KernelDensity.py\n",
            "spark-2.4.7-bin-hadoop2.7/python/pyspark/mllib/stat/distribution.py\n",
            "spark-2.4.7-bin-hadoop2.7/python/pyspark/mllib/stat/test.py\n",
            "spark-2.4.7-bin-hadoop2.7/python/pyspark/mllib/feature.py\n",
            "spark-2.4.7-bin-hadoop2.7/python/pyspark/mllib/regression.py\n",
            "spark-2.4.7-bin-hadoop2.7/python/pyspark/mllib/common.py\n",
            "spark-2.4.7-bin-hadoop2.7/python/pyspark/mllib/evaluation.py\n",
            "spark-2.4.7-bin-hadoop2.7/python/pyspark/mllib/tests.py\n",
            "spark-2.4.7-bin-hadoop2.7/python/pyspark/mllib/tree.py\n",
            "spark-2.4.7-bin-hadoop2.7/python/pyspark/mllib/fpm.py\n",
            "spark-2.4.7-bin-hadoop2.7/python/pyspark/rdd.py\n",
            "spark-2.4.7-bin-hadoop2.7/python/pyspark/storagelevel.py\n",
            "spark-2.4.7-bin-hadoop2.7/python/dist/\n",
            "spark-2.4.7-bin-hadoop2.7/python/setup.cfg\n",
            "spark-2.4.7-bin-hadoop2.7/python/pyspark.egg-info/\n",
            "spark-2.4.7-bin-hadoop2.7/python/pyspark.egg-info/top_level.txt\n",
            "spark-2.4.7-bin-hadoop2.7/python/pyspark.egg-info/SOURCES.txt\n",
            "spark-2.4.7-bin-hadoop2.7/python/pyspark.egg-info/PKG-INFO\n",
            "spark-2.4.7-bin-hadoop2.7/python/pyspark.egg-info/requires.txt\n",
            "spark-2.4.7-bin-hadoop2.7/python/pyspark.egg-info/dependency_links.txt\n",
            "spark-2.4.7-bin-hadoop2.7/python/docs/\n",
            "spark-2.4.7-bin-hadoop2.7/python/docs/pyspark.ml.rst\n",
            "spark-2.4.7-bin-hadoop2.7/python/docs/epytext.py\n",
            "spark-2.4.7-bin-hadoop2.7/python/docs/Makefile\n",
            "spark-2.4.7-bin-hadoop2.7/python/docs/pyspark.sql.rst\n",
            "spark-2.4.7-bin-hadoop2.7/python/docs/pyspark.streaming.rst\n",
            "spark-2.4.7-bin-hadoop2.7/python/docs/pyspark.mllib.rst\n",
            "spark-2.4.7-bin-hadoop2.7/python/docs/make.bat\n",
            "spark-2.4.7-bin-hadoop2.7/python/docs/conf.py\n",
            "spark-2.4.7-bin-hadoop2.7/python/docs/_templates/\n",
            "spark-2.4.7-bin-hadoop2.7/python/docs/_templates/layout.html\n",
            "spark-2.4.7-bin-hadoop2.7/python/docs/_static/\n",
            "spark-2.4.7-bin-hadoop2.7/python/docs/_static/pyspark.js\n",
            "spark-2.4.7-bin-hadoop2.7/python/docs/_static/pyspark.css\n",
            "spark-2.4.7-bin-hadoop2.7/python/docs/make2.bat\n",
            "spark-2.4.7-bin-hadoop2.7/python/docs/index.rst\n",
            "spark-2.4.7-bin-hadoop2.7/python/docs/pyspark.rst\n",
            "spark-2.4.7-bin-hadoop2.7/python/run-tests\n",
            "spark-2.4.7-bin-hadoop2.7/python/test_coverage/\n",
            "spark-2.4.7-bin-hadoop2.7/python/test_coverage/conf/\n",
            "spark-2.4.7-bin-hadoop2.7/python/test_coverage/conf/spark-defaults.conf\n",
            "spark-2.4.7-bin-hadoop2.7/python/test_coverage/coverage_daemon.py\n",
            "spark-2.4.7-bin-hadoop2.7/python/test_coverage/sitecustomize.py\n",
            "spark-2.4.7-bin-hadoop2.7/examples/\n",
            "spark-2.4.7-bin-hadoop2.7/examples/src/\n",
            "spark-2.4.7-bin-hadoop2.7/examples/src/main/\n",
            "spark-2.4.7-bin-hadoop2.7/examples/src/main/r/\n",
            "spark-2.4.7-bin-hadoop2.7/examples/src/main/r/dataframe.R\n",
            "spark-2.4.7-bin-hadoop2.7/examples/src/main/r/data-manipulation.R\n",
            "spark-2.4.7-bin-hadoop2.7/examples/src/main/r/RSparkSQLExample.R\n",
            "spark-2.4.7-bin-hadoop2.7/examples/src/main/r/streaming/\n",
            "spark-2.4.7-bin-hadoop2.7/examples/src/main/r/streaming/structured_network_wordcount.R\n",
            "spark-2.4.7-bin-hadoop2.7/examples/src/main/r/ml/\n",
            "spark-2.4.7-bin-hadoop2.7/examples/src/main/r/ml/fpm.R\n",
            "spark-2.4.7-bin-hadoop2.7/examples/src/main/r/ml/glm.R\n",
            "spark-2.4.7-bin-hadoop2.7/examples/src/main/r/ml/mlp.R\n",
            "spark-2.4.7-bin-hadoop2.7/examples/src/main/r/ml/naiveBayes.R\n",
            "spark-2.4.7-bin-hadoop2.7/examples/src/main/r/ml/logit.R\n",
            "spark-2.4.7-bin-hadoop2.7/examples/src/main/r/ml/decisionTree.R\n",
            "spark-2.4.7-bin-hadoop2.7/examples/src/main/r/ml/svmLinear.R\n",
            "spark-2.4.7-bin-hadoop2.7/examples/src/main/r/ml/isoreg.R\n",
            "spark-2.4.7-bin-hadoop2.7/examples/src/main/r/ml/gaussianMixture.R\n",
            "spark-2.4.7-bin-hadoop2.7/examples/src/main/r/ml/randomForest.R\n",
            "spark-2.4.7-bin-hadoop2.7/examples/src/main/r/ml/gbt.R\n",
            "spark-2.4.7-bin-hadoop2.7/examples/src/main/r/ml/als.R\n",
            "spark-2.4.7-bin-hadoop2.7/examples/src/main/r/ml/lda.R\n",
            "spark-2.4.7-bin-hadoop2.7/examples/src/main/r/ml/ml.R\n",
            "spark-2.4.7-bin-hadoop2.7/examples/src/main/r/ml/survreg.R\n",
            "spark-2.4.7-bin-hadoop2.7/examples/src/main/r/ml/bisectingKmeans.R\n",
            "spark-2.4.7-bin-hadoop2.7/examples/src/main/r/ml/kmeans.R\n",
            "spark-2.4.7-bin-hadoop2.7/examples/src/main/r/ml/kstest.R\n",
            "spark-2.4.7-bin-hadoop2.7/examples/src/main/resources/\n",
            "spark-2.4.7-bin-hadoop2.7/examples/src/main/resources/users.avro\n",
            "spark-2.4.7-bin-hadoop2.7/examples/src/main/resources/people.txt\n",
            "spark-2.4.7-bin-hadoop2.7/examples/src/main/resources/people.csv\n",
            "spark-2.4.7-bin-hadoop2.7/examples/src/main/resources/users.parquet\n",
            "spark-2.4.7-bin-hadoop2.7/examples/src/main/resources/kv1.txt\n",
            "spark-2.4.7-bin-hadoop2.7/examples/src/main/resources/people.json\n",
            "spark-2.4.7-bin-hadoop2.7/examples/src/main/resources/employees.json\n",
            "spark-2.4.7-bin-hadoop2.7/examples/src/main/resources/user.avsc\n",
            "spark-2.4.7-bin-hadoop2.7/examples/src/main/resources/full_user.avsc\n",
            "spark-2.4.7-bin-hadoop2.7/examples/src/main/resources/users.orc\n",
            "spark-2.4.7-bin-hadoop2.7/examples/src/main/scala/\n",
            "spark-2.4.7-bin-hadoop2.7/examples/src/main/scala/org/\n",
            "spark-2.4.7-bin-hadoop2.7/examples/src/main/scala/org/apache/\n",
            "spark-2.4.7-bin-hadoop2.7/examples/src/main/scala/org/apache/spark/\n",
            "spark-2.4.7-bin-hadoop2.7/examples/src/main/scala/org/apache/spark/examples/\n",
            "spark-2.4.7-bin-hadoop2.7/examples/src/main/scala/org/apache/spark/examples/ExceptionHandlingTest.scala\n",
            "spark-2.4.7-bin-hadoop2.7/examples/src/main/scala/org/apache/spark/examples/GroupByTest.scala\n",
            "spark-2.4.7-bin-hadoop2.7/examples/src/main/scala/org/apache/spark/examples/LogQuery.scala\n",
            "spark-2.4.7-bin-hadoop2.7/examples/src/main/scala/org/apache/spark/examples/DriverSubmissionTest.scala\n",
            "spark-2.4.7-bin-hadoop2.7/examples/src/main/scala/org/apache/spark/examples/SparkPi.scala\n",
            "spark-2.4.7-bin-hadoop2.7/examples/src/main/scala/org/apache/spark/examples/SparkALS.scala\n",
            "spark-2.4.7-bin-hadoop2.7/examples/src/main/scala/org/apache/spark/examples/SparkRemoteFileTest.scala\n",
            "spark-2.4.7-bin-hadoop2.7/examples/src/main/scala/org/apache/spark/examples/SparkLR.scala\n",
            "spark-2.4.7-bin-hadoop2.7/examples/src/main/scala/org/apache/spark/examples/SparkKMeans.scala\n",
            "spark-2.4.7-bin-hadoop2.7/examples/src/main/scala/org/apache/spark/examples/SparkPageRank.scala\n",
            "spark-2.4.7-bin-hadoop2.7/examples/src/main/scala/org/apache/spark/examples/LocalPi.scala\n",
            "spark-2.4.7-bin-hadoop2.7/examples/src/main/scala/org/apache/spark/examples/BroadcastTest.scala\n",
            "spark-2.4.7-bin-hadoop2.7/examples/src/main/scala/org/apache/spark/examples/SimpleSkewedGroupByTest.scala\n",
            "spark-2.4.7-bin-hadoop2.7/examples/src/main/scala/org/apache/spark/examples/pythonconverters/\n",
            "spark-2.4.7-bin-hadoop2.7/examples/src/main/scala/org/apache/spark/examples/pythonconverters/AvroConverters.scala\n",
            "spark-2.4.7-bin-hadoop2.7/examples/src/main/scala/org/apache/spark/examples/LocalKMeans.scala\n",
            "spark-2.4.7-bin-hadoop2.7/examples/src/main/scala/org/apache/spark/examples/sql/\n",
            "spark-2.4.7-bin-hadoop2.7/examples/src/main/scala/org/apache/spark/examples/sql/UserDefinedTypedAggregation.scala\n",
            "spark-2.4.7-bin-hadoop2.7/examples/src/main/scala/org/apache/spark/examples/sql/SparkSQLExample.scala\n",
            "spark-2.4.7-bin-hadoop2.7/examples/src/main/scala/org/apache/spark/examples/sql/SQLDataSourceExample.scala\n",
            "spark-2.4.7-bin-hadoop2.7/examples/src/main/scala/org/apache/spark/examples/sql/RDDRelation.scala\n",
            "spark-2.4.7-bin-hadoop2.7/examples/src/main/scala/org/apache/spark/examples/sql/UserDefinedUntypedAggregation.scala\n",
            "spark-2.4.7-bin-hadoop2.7/examples/src/main/scala/org/apache/spark/examples/sql/streaming/\n",
            "spark-2.4.7-bin-hadoop2.7/examples/src/main/scala/org/apache/spark/examples/sql/streaming/StructuredNetworkWordCount.scala\n",
            "spark-2.4.7-bin-hadoop2.7/examples/src/main/scala/org/apache/spark/examples/sql/streaming/StructuredKafkaWordCount.scala\n",
            "spark-2.4.7-bin-hadoop2.7/examples/src/main/scala/org/apache/spark/examples/sql/streaming/StructuredSessionization.scala\n",
            "spark-2.4.7-bin-hadoop2.7/examples/src/main/scala/org/apache/spark/examples/sql/streaming/StructuredNetworkWordCountWindowed.scala\n",
            "spark-2.4.7-bin-hadoop2.7/examples/src/main/scala/org/apache/spark/examples/sql/hive/\n",
            "spark-2.4.7-bin-hadoop2.7/examples/src/main/scala/org/apache/spark/examples/sql/hive/SparkHiveExample.scala\n",
            "spark-2.4.7-bin-hadoop2.7/examples/src/main/scala/org/apache/spark/examples/SparkHdfsLR.scala\n",
            "spark-2.4.7-bin-hadoop2.7/examples/src/main/scala/org/apache/spark/examples/SparkTC.scala\n",
            "spark-2.4.7-bin-hadoop2.7/examples/src/main/scala/org/apache/spark/examples/LocalLR.scala\n",
            "spark-2.4.7-bin-hadoop2.7/examples/src/main/scala/org/apache/spark/examples/LocalFileLR.scala\n",
            "spark-2.4.7-bin-hadoop2.7/examples/src/main/scala/org/apache/spark/examples/streaming/\n",
            "spark-2.4.7-bin-hadoop2.7/examples/src/main/scala/org/apache/spark/examples/streaming/clickstream/\n",
            "spark-2.4.7-bin-hadoop2.7/examples/src/main/scala/org/apache/spark/examples/streaming/clickstream/PageViewStream.scala\n",
            "spark-2.4.7-bin-hadoop2.7/examples/src/main/scala/org/apache/spark/examples/streaming/clickstream/PageViewGenerator.scala\n",
            "spark-2.4.7-bin-hadoop2.7/examples/src/main/scala/org/apache/spark/examples/streaming/QueueStream.scala\n",
            "spark-2.4.7-bin-hadoop2.7/examples/src/main/scala/org/apache/spark/examples/streaming/RecoverableNetworkWordCount.scala\n",
            "spark-2.4.7-bin-hadoop2.7/examples/src/main/scala/org/apache/spark/examples/streaming/DirectKafkaWordCount.scala\n",
            "spark-2.4.7-bin-hadoop2.7/examples/src/main/scala/org/apache/spark/examples/streaming/StreamingExamples.scala\n",
            "spark-2.4.7-bin-hadoop2.7/examples/src/main/scala/org/apache/spark/examples/streaming/CustomReceiver.scala\n",
            "spark-2.4.7-bin-hadoop2.7/examples/src/main/scala/org/apache/spark/examples/streaming/NetworkWordCount.scala\n",
            "spark-2.4.7-bin-hadoop2.7/examples/src/main/scala/org/apache/spark/examples/streaming/StatefulNetworkWordCount.scala\n",
            "spark-2.4.7-bin-hadoop2.7/examples/src/main/scala/org/apache/spark/examples/streaming/SqlNetworkWordCount.scala\n",
            "spark-2.4.7-bin-hadoop2.7/examples/src/main/scala/org/apache/spark/examples/streaming/HdfsWordCount.scala\n",
            "spark-2.4.7-bin-hadoop2.7/examples/src/main/scala/org/apache/spark/examples/streaming/RawNetworkGrep.scala\n",
            "spark-2.4.7-bin-hadoop2.7/examples/src/main/scala/org/apache/spark/examples/MultiBroadcastTest.scala\n",
            "spark-2.4.7-bin-hadoop2.7/examples/src/main/scala/org/apache/spark/examples/ml/\n",
            "spark-2.4.7-bin-hadoop2.7/examples/src/main/scala/org/apache/spark/examples/ml/StringIndexerExample.scala\n",
            "spark-2.4.7-bin-hadoop2.7/examples/src/main/scala/org/apache/spark/examples/ml/StopWordsRemoverExample.scala\n",
            "spark-2.4.7-bin-hadoop2.7/examples/src/main/scala/org/apache/spark/examples/ml/ModelSelectionViaTrainValidationSplitExample.scala\n",
            "spark-2.4.7-bin-hadoop2.7/examples/src/main/scala/org/apache/spark/examples/ml/StandardScalerExample.scala\n",
            "spark-2.4.7-bin-hadoop2.7/examples/src/main/scala/org/apache/spark/examples/ml/ImputerExample.scala\n",
            "spark-2.4.7-bin-hadoop2.7/examples/src/main/scala/org/apache/spark/examples/ml/CorrelationExample.scala\n",
            "spark-2.4.7-bin-hadoop2.7/examples/src/main/scala/org/apache/spark/examples/ml/ElementwiseProductExample.scala\n",
            "spark-2.4.7-bin-hadoop2.7/examples/src/main/scala/org/apache/spark/examples/ml/NormalizerExample.scala\n",
            "spark-2.4.7-bin-hadoop2.7/examples/src/main/scala/org/apache/spark/examples/ml/ChiSqSelectorExample.scala\n",
            "spark-2.4.7-bin-hadoop2.7/examples/src/main/scala/org/apache/spark/examples/ml/NaiveBayesExample.scala\n",
            "spark-2.4.7-bin-hadoop2.7/examples/src/main/scala/org/apache/spark/examples/ml/SQLTransformerExample.scala\n",
            "spark-2.4.7-bin-hadoop2.7/examples/src/main/scala/org/apache/spark/examples/ml/MinHashLSHExample.scala\n",
            "spark-2.4.7-bin-hadoop2.7/examples/src/main/scala/org/apache/spark/examples/ml/FPGrowthExample.scala\n",
            "spark-2.4.7-bin-hadoop2.7/examples/src/main/scala/org/apache/spark/examples/ml/LogisticRegressionSummaryExample.scala\n",
            "spark-2.4.7-bin-hadoop2.7/examples/src/main/scala/org/apache/spark/examples/ml/DataFrameExample.scala\n",
            "spark-2.4.7-bin-hadoop2.7/examples/src/main/scala/org/apache/spark/examples/ml/VectorSlicerExample.scala\n",
            "spark-2.4.7-bin-hadoop2.7/examples/src/main/scala/org/apache/spark/examples/ml/VectorAssemblerExample.scala\n",
            "spark-2.4.7-bin-hadoop2.7/examples/src/main/scala/org/apache/spark/examples/ml/VectorSizeHintExample.scala\n",
            "spark-2.4.7-bin-hadoop2.7/examples/src/main/scala/org/apache/spark/examples/ml/DecisionTreeClassificationExample.scala\n",
            "spark-2.4.7-bin-hadoop2.7/examples/src/main/scala/org/apache/spark/examples/ml/RFormulaExample.scala\n",
            "spark-2.4.7-bin-hadoop2.7/examples/src/main/scala/org/apache/spark/examples/ml/BinarizerExample.scala\n",
            "spark-2.4.7-bin-hadoop2.7/examples/src/main/scala/org/apache/spark/examples/ml/TfIdfExample.scala\n",
            "spark-2.4.7-bin-hadoop2.7/examples/src/main/scala/org/apache/spark/examples/ml/RandomForestRegressorExample.scala\n",
            "spark-2.4.7-bin-hadoop2.7/examples/src/main/scala/org/apache/spark/examples/ml/LinearSVCExample.scala\n",
            "spark-2.4.7-bin-hadoop2.7/examples/src/main/scala/org/apache/spark/examples/ml/DecisionTreeRegressionExample.scala\n",
            "spark-2.4.7-bin-hadoop2.7/examples/src/main/scala/org/apache/spark/examples/ml/MinMaxScalerExample.scala\n",
            "spark-2.4.7-bin-hadoop2.7/examples/src/main/scala/org/apache/spark/examples/ml/CountVectorizerExample.scala\n",
            "spark-2.4.7-bin-hadoop2.7/examples/src/main/scala/org/apache/spark/examples/ml/DecisionTreeExample.scala\n",
            "spark-2.4.7-bin-hadoop2.7/examples/src/main/scala/org/apache/spark/examples/ml/LinearRegressionWithElasticNetExample.scala\n",
            "spark-2.4.7-bin-hadoop2.7/examples/src/main/scala/org/apache/spark/examples/ml/FeatureHasherExample.scala\n",
            "spark-2.4.7-bin-hadoop2.7/examples/src/main/scala/org/apache/spark/examples/ml/ALSExample.scala\n",
            "spark-2.4.7-bin-hadoop2.7/examples/src/main/scala/org/apache/spark/examples/ml/GeneralizedLinearRegressionExample.scala\n",
            "spark-2.4.7-bin-hadoop2.7/examples/src/main/scala/org/apache/spark/examples/ml/LinearRegressionExample.scala\n",
            "spark-2.4.7-bin-hadoop2.7/examples/src/main/scala/org/apache/spark/examples/ml/VectorIndexerExample.scala\n",
            "spark-2.4.7-bin-hadoop2.7/examples/src/main/scala/org/apache/spark/examples/ml/BucketizerExample.scala\n",
            "spark-2.4.7-bin-hadoop2.7/examples/src/main/scala/org/apache/spark/examples/ml/AFTSurvivalRegressionExample.scala\n",
            "spark-2.4.7-bin-hadoop2.7/examples/src/main/scala/org/apache/spark/examples/ml/TokenizerExample.scala\n",
            "spark-2.4.7-bin-hadoop2.7/examples/src/main/scala/org/apache/spark/examples/ml/QuantileDiscretizerExample.scala\n",
            "spark-2.4.7-bin-hadoop2.7/examples/src/main/scala/org/apache/spark/examples/ml/GaussianMixtureExample.scala\n",
            "spark-2.4.7-bin-hadoop2.7/examples/src/main/scala/org/apache/spark/examples/ml/DeveloperApiExample.scala\n",
            "spark-2.4.7-bin-hadoop2.7/examples/src/main/scala/org/apache/spark/examples/ml/IsotonicRegressionExample.scala\n",
            "spark-2.4.7-bin-hadoop2.7/examples/src/main/scala/org/apache/spark/examples/ml/GBTExample.scala\n",
            "spark-2.4.7-bin-hadoop2.7/examples/src/main/scala/org/apache/spark/examples/ml/MaxAbsScalerExample.scala\n",
            "spark-2.4.7-bin-hadoop2.7/examples/src/main/scala/org/apache/spark/examples/ml/ChiSquareTestExample.scala\n",
            "spark-2.4.7-bin-hadoop2.7/examples/src/main/scala/org/apache/spark/examples/ml/BucketedRandomProjectionLSHExample.scala\n",
            "spark-2.4.7-bin-hadoop2.7/examples/src/main/scala/org/apache/spark/examples/ml/Word2VecExample.scala\n",
            "spark-2.4.7-bin-hadoop2.7/examples/src/main/scala/org/apache/spark/examples/ml/NGramExample.scala\n",
            "spark-2.4.7-bin-hadoop2.7/examples/src/main/scala/org/apache/spark/examples/ml/DCTExample.scala\n",
            "spark-2.4.7-bin-hadoop2.7/examples/src/main/scala/org/apache/spark/examples/ml/LDAExample.scala\n",
            "spark-2.4.7-bin-hadoop2.7/examples/src/main/scala/org/apache/spark/examples/ml/SummarizerExample.scala\n",
            "spark-2.4.7-bin-hadoop2.7/examples/src/main/scala/org/apache/spark/examples/ml/InteractionExample.scala\n",
            "spark-2.4.7-bin-hadoop2.7/examples/src/main/scala/org/apache/spark/examples/ml/RandomForestClassifierExample.scala\n",
            "spark-2.4.7-bin-hadoop2.7/examples/src/main/scala/org/apache/spark/examples/ml/RandomForestExample.scala\n",
            "spark-2.4.7-bin-hadoop2.7/examples/src/main/scala/org/apache/spark/examples/ml/ModelSelectionViaCrossValidationExample.scala\n",
            "spark-2.4.7-bin-hadoop2.7/examples/src/main/scala/org/apache/spark/examples/ml/KMeansExample.scala\n",
            "spark-2.4.7-bin-hadoop2.7/examples/src/main/scala/org/apache/spark/examples/ml/GradientBoostedTreeRegressorExample.scala\n",
            "spark-2.4.7-bin-hadoop2.7/examples/src/main/scala/org/apache/spark/examples/ml/UnaryTransformerExample.scala\n",
            "spark-2.4.7-bin-hadoop2.7/examples/src/main/scala/org/apache/spark/examples/ml/PolynomialExpansionExample.scala\n",
            "spark-2.4.7-bin-hadoop2.7/examples/src/main/scala/org/apache/spark/examples/ml/IndexToStringExample.scala\n",
            "spark-2.4.7-bin-hadoop2.7/examples/src/main/scala/org/apache/spark/examples/ml/LogisticRegressionWithElasticNetExample.scala\n",
            "spark-2.4.7-bin-hadoop2.7/examples/src/main/scala/org/apache/spark/examples/ml/BisectingKMeansExample.scala\n",
            "spark-2.4.7-bin-hadoop2.7/examples/src/main/scala/org/apache/spark/examples/ml/LogisticRegressionExample.scala\n",
            "spark-2.4.7-bin-hadoop2.7/examples/src/main/scala/org/apache/spark/examples/ml/MulticlassLogisticRegressionWithElasticNetExample.scala\n",
            "spark-2.4.7-bin-hadoop2.7/examples/src/main/scala/org/apache/spark/examples/ml/PipelineExample.scala\n",
            "spark-2.4.7-bin-hadoop2.7/examples/src/main/scala/org/apache/spark/examples/ml/PCAExample.scala\n",
            "spark-2.4.7-bin-hadoop2.7/examples/src/main/scala/org/apache/spark/examples/ml/OneVsRestExample.scala\n",
            "spark-2.4.7-bin-hadoop2.7/examples/src/main/scala/org/apache/spark/examples/ml/MultilayerPerceptronClassifierExample.scala\n",
            "spark-2.4.7-bin-hadoop2.7/examples/src/main/scala/org/apache/spark/examples/ml/EstimatorTransformerParamExample.scala\n",
            "spark-2.4.7-bin-hadoop2.7/examples/src/main/scala/org/apache/spark/examples/ml/OneHotEncoderEstimatorExample.scala\n",
            "spark-2.4.7-bin-hadoop2.7/examples/src/main/scala/org/apache/spark/examples/ml/GradientBoostedTreeClassifierExample.scala\n",
            "spark-2.4.7-bin-hadoop2.7/examples/src/main/scala/org/apache/spark/examples/ml/PrefixSpanExample.scala\n",
            "spark-2.4.7-bin-hadoop2.7/examples/src/main/scala/org/apache/spark/examples/ml/PowerIterationClusteringExample.scala\n",
            "spark-2.4.7-bin-hadoop2.7/examples/src/main/scala/org/apache/spark/examples/HdfsTest.scala\n",
            "spark-2.4.7-bin-hadoop2.7/examples/src/main/scala/org/apache/spark/examples/LocalALS.scala\n",
            "spark-2.4.7-bin-hadoop2.7/examples/src/main/scala/org/apache/spark/examples/mllib/\n",
            "spark-2.4.7-bin-hadoop2.7/examples/src/main/scala/org/apache/spark/examples/mllib/LinearRegressionWithSGDExample.scala\n",
            "spark-2.4.7-bin-hadoop2.7/examples/src/main/scala/org/apache/spark/examples/mllib/StandardScalerExample.scala\n",
            "spark-2.4.7-bin-hadoop2.7/examples/src/main/scala/org/apache/spark/examples/mllib/MultiLabelMetricsExample.scala\n",
            "spark-2.4.7-bin-hadoop2.7/examples/src/main/scala/org/apache/spark/examples/mllib/HypothesisTestingKolmogorovSmirnovTestExample.scala\n",
            "spark-2.4.7-bin-hadoop2.7/examples/src/main/scala/org/apache/spark/examples/mllib/StreamingLogisticRegression.scala\n",
            "spark-2.4.7-bin-hadoop2.7/examples/src/main/scala/org/apache/spark/examples/mllib/RandomForestRegressionExample.scala\n",
            "spark-2.4.7-bin-hadoop2.7/examples/src/main/scala/org/apache/spark/examples/mllib/RandomForestClassificationExample.scala\n",
            "spark-2.4.7-bin-hadoop2.7/examples/src/main/scala/org/apache/spark/examples/mllib/ElementwiseProductExample.scala\n",
            "spark-2.4.7-bin-hadoop2.7/examples/src/main/scala/org/apache/spark/examples/mllib/NormalizerExample.scala\n",
            "spark-2.4.7-bin-hadoop2.7/examples/src/main/scala/org/apache/spark/examples/mllib/ChiSqSelectorExample.scala\n",
            "spark-2.4.7-bin-hadoop2.7/examples/src/main/scala/org/apache/spark/examples/mllib/NaiveBayesExample.scala\n",
            "spark-2.4.7-bin-hadoop2.7/examples/src/main/scala/org/apache/spark/examples/mllib/RecommendationExample.scala\n",
            "spark-2.4.7-bin-hadoop2.7/examples/src/main/scala/org/apache/spark/examples/mllib/BinaryClassification.scala\n",
            "spark-2.4.7-bin-hadoop2.7/examples/src/main/scala/org/apache/spark/examples/mllib/StreamingTestExample.scala\n",
            "spark-2.4.7-bin-hadoop2.7/examples/src/main/scala/org/apache/spark/examples/mllib/FPGrowthExample.scala\n",
            "spark-2.4.7-bin-hadoop2.7/examples/src/main/scala/org/apache/spark/examples/mllib/GradientBoostingClassificationExample.scala\n",
            "spark-2.4.7-bin-hadoop2.7/examples/src/main/scala/org/apache/spark/examples/mllib/BinaryClassificationMetricsExample.scala\n",
            "spark-2.4.7-bin-hadoop2.7/examples/src/main/scala/org/apache/spark/examples/mllib/AssociationRulesExample.scala\n",
            "spark-2.4.7-bin-hadoop2.7/examples/src/main/scala/org/apache/spark/examples/mllib/DecisionTreeRunner.scala\n",
            "spark-2.4.7-bin-hadoop2.7/examples/src/main/scala/org/apache/spark/examples/mllib/DecisionTreeClassificationExample.scala\n",
            "spark-2.4.7-bin-hadoop2.7/examples/src/main/scala/org/apache/spark/examples/mllib/MulticlassMetricsExample.scala\n",
            "spark-2.4.7-bin-hadoop2.7/examples/src/main/scala/org/apache/spark/examples/mllib/RankingMetricsExample.scala\n",
            "spark-2.4.7-bin-hadoop2.7/examples/src/main/scala/org/apache/spark/examples/mllib/StreamingLinearRegressionExample.scala\n",
            "spark-2.4.7-bin-hadoop2.7/examples/src/main/scala/org/apache/spark/examples/mllib/MovieLensALS.scala\n",
            "spark-2.4.7-bin-hadoop2.7/examples/src/main/scala/org/apache/spark/examples/mllib/DecisionTreeRegressionExample.scala\n",
            "spark-2.4.7-bin-hadoop2.7/examples/src/main/scala/org/apache/spark/examples/mllib/TallSkinnySVD.scala\n",
            "spark-2.4.7-bin-hadoop2.7/examples/src/main/scala/org/apache/spark/examples/mllib/SummaryStatisticsExample.scala\n",
            "spark-2.4.7-bin-hadoop2.7/examples/src/main/scala/org/apache/spark/examples/mllib/CosineSimilarity.scala\n",
            "spark-2.4.7-bin-hadoop2.7/examples/src/main/scala/org/apache/spark/examples/mllib/CorrelationsExample.scala\n",
            "spark-2.4.7-bin-hadoop2.7/examples/src/main/scala/org/apache/spark/examples/mllib/LatentDirichletAllocationExample.scala\n",
            "spark-2.4.7-bin-hadoop2.7/examples/src/main/scala/org/apache/spark/examples/mllib/LBFGSExample.scala\n",
            "spark-2.4.7-bin-hadoop2.7/examples/src/main/scala/org/apache/spark/examples/mllib/PCAOnRowMatrixExample.scala\n",
            "spark-2.4.7-bin-hadoop2.7/examples/src/main/scala/org/apache/spark/examples/mllib/SVDExample.scala\n",
            "spark-2.4.7-bin-hadoop2.7/examples/src/main/scala/org/apache/spark/examples/mllib/TFIDFExample.scala\n",
            "spark-2.4.7-bin-hadoop2.7/examples/src/main/scala/org/apache/spark/examples/mllib/GaussianMixtureExample.scala\n",
            "spark-2.4.7-bin-hadoop2.7/examples/src/main/scala/org/apache/spark/examples/mllib/SampledRDDs.scala\n",
            "spark-2.4.7-bin-hadoop2.7/examples/src/main/scala/org/apache/spark/examples/mllib/DenseKMeans.scala\n",
            "spark-2.4.7-bin-hadoop2.7/examples/src/main/scala/org/apache/spark/examples/mllib/IsotonicRegressionExample.scala\n",
            "spark-2.4.7-bin-hadoop2.7/examples/src/main/scala/org/apache/spark/examples/mllib/SVMWithSGDExample.scala\n",
            "spark-2.4.7-bin-hadoop2.7/examples/src/main/scala/org/apache/spark/examples/mllib/GradientBoostingRegressionExample.scala\n",
            "spark-2.4.7-bin-hadoop2.7/examples/src/main/scala/org/apache/spark/examples/mllib/StratifiedSamplingExample.scala\n",
            "spark-2.4.7-bin-hadoop2.7/examples/src/main/scala/org/apache/spark/examples/mllib/StreamingKMeansExample.scala\n",
            "spark-2.4.7-bin-hadoop2.7/examples/src/main/scala/org/apache/spark/examples/mllib/SparseNaiveBayes.scala\n",
            "spark-2.4.7-bin-hadoop2.7/examples/src/main/scala/org/apache/spark/examples/mllib/Word2VecExample.scala\n",
            "spark-2.4.7-bin-hadoop2.7/examples/src/main/scala/org/apache/spark/examples/mllib/LDAExample.scala\n",
            "spark-2.4.7-bin-hadoop2.7/examples/src/main/scala/org/apache/spark/examples/mllib/PMMLModelExportExample.scala\n",
            "spark-2.4.7-bin-hadoop2.7/examples/src/main/scala/org/apache/spark/examples/mllib/Correlations.scala\n",
            "spark-2.4.7-bin-hadoop2.7/examples/src/main/scala/org/apache/spark/examples/mllib/MultivariateSummarizer.scala\n",
            "spark-2.4.7-bin-hadoop2.7/examples/src/main/scala/org/apache/spark/examples/mllib/KMeansExample.scala\n",
            "spark-2.4.7-bin-hadoop2.7/examples/src/main/scala/org/apache/spark/examples/mllib/LinearRegression.scala\n",
            "spark-2.4.7-bin-hadoop2.7/examples/src/main/scala/org/apache/spark/examples/mllib/KernelDensityEstimationExample.scala\n",
            "spark-2.4.7-bin-hadoop2.7/examples/src/main/scala/org/apache/spark/examples/mllib/PCAOnSourceVectorExample.scala\n",
            "spark-2.4.7-bin-hadoop2.7/examples/src/main/scala/org/apache/spark/examples/mllib/RandomRDDGeneration.scala\n",
            "spark-2.4.7-bin-hadoop2.7/examples/src/main/scala/org/apache/spark/examples/mllib/TallSkinnyPCA.scala\n",
            "spark-2.4.7-bin-hadoop2.7/examples/src/main/scala/org/apache/spark/examples/mllib/GradientBoostedTreesRunner.scala\n",
            "spark-2.4.7-bin-hadoop2.7/examples/src/main/scala/org/apache/spark/examples/mllib/LogisticRegressionWithLBFGSExample.scala\n",
            "spark-2.4.7-bin-hadoop2.7/examples/src/main/scala/org/apache/spark/examples/mllib/BisectingKMeansExample.scala\n",
            "spark-2.4.7-bin-hadoop2.7/examples/src/main/scala/org/apache/spark/examples/mllib/PCAExample.scala\n",
            "spark-2.4.7-bin-hadoop2.7/examples/src/main/scala/org/apache/spark/examples/mllib/RegressionMetricsExample.scala\n",
            "spark-2.4.7-bin-hadoop2.7/examples/src/main/scala/org/apache/spark/examples/mllib/AbstractParams.scala\n",
            "spark-2.4.7-bin-hadoop2.7/examples/src/main/scala/org/apache/spark/examples/mllib/PrefixSpanExample.scala\n",
            "spark-2.4.7-bin-hadoop2.7/examples/src/main/scala/org/apache/spark/examples/mllib/HypothesisTestingExample.scala\n",
            "spark-2.4.7-bin-hadoop2.7/examples/src/main/scala/org/apache/spark/examples/mllib/SimpleFPGrowth.scala\n",
            "spark-2.4.7-bin-hadoop2.7/examples/src/main/scala/org/apache/spark/examples/mllib/PowerIterationClusteringExample.scala\n",
            "spark-2.4.7-bin-hadoop2.7/examples/src/main/scala/org/apache/spark/examples/graphx/\n",
            "spark-2.4.7-bin-hadoop2.7/examples/src/main/scala/org/apache/spark/examples/graphx/AggregateMessagesExample.scala\n",
            "spark-2.4.7-bin-hadoop2.7/examples/src/main/scala/org/apache/spark/examples/graphx/SynthBenchmark.scala\n",
            "spark-2.4.7-bin-hadoop2.7/examples/src/main/scala/org/apache/spark/examples/graphx/TriangleCountingExample.scala\n",
            "spark-2.4.7-bin-hadoop2.7/examples/src/main/scala/org/apache/spark/examples/graphx/ComprehensiveExample.scala\n",
            "spark-2.4.7-bin-hadoop2.7/examples/src/main/scala/org/apache/spark/examples/graphx/Analytics.scala\n",
            "spark-2.4.7-bin-hadoop2.7/examples/src/main/scala/org/apache/spark/examples/graphx/SSSPExample.scala\n",
            "spark-2.4.7-bin-hadoop2.7/examples/src/main/scala/org/apache/spark/examples/graphx/ConnectedComponentsExample.scala\n",
            "spark-2.4.7-bin-hadoop2.7/examples/src/main/scala/org/apache/spark/examples/graphx/PageRankExample.scala\n",
            "spark-2.4.7-bin-hadoop2.7/examples/src/main/scala/org/apache/spark/examples/graphx/LiveJournalPageRank.scala\n",
            "spark-2.4.7-bin-hadoop2.7/examples/src/main/scala/org/apache/spark/examples/SkewedGroupByTest.scala\n",
            "spark-2.4.7-bin-hadoop2.7/examples/src/main/scala/org/apache/spark/examples/DFSReadWriteTest.scala\n",
            "spark-2.4.7-bin-hadoop2.7/examples/src/main/java/\n",
            "spark-2.4.7-bin-hadoop2.7/examples/src/main/java/org/\n",
            "spark-2.4.7-bin-hadoop2.7/examples/src/main/java/org/apache/\n",
            "spark-2.4.7-bin-hadoop2.7/examples/src/main/java/org/apache/spark/\n",
            "spark-2.4.7-bin-hadoop2.7/examples/src/main/java/org/apache/spark/examples/\n",
            "spark-2.4.7-bin-hadoop2.7/examples/src/main/java/org/apache/spark/examples/JavaTC.java\n",
            "spark-2.4.7-bin-hadoop2.7/examples/src/main/java/org/apache/spark/examples/JavaStatusTrackerDemo.java\n",
            "spark-2.4.7-bin-hadoop2.7/examples/src/main/java/org/apache/spark/examples/JavaWordCount.java\n",
            "spark-2.4.7-bin-hadoop2.7/examples/src/main/java/org/apache/spark/examples/JavaPageRank.java\n",
            "spark-2.4.7-bin-hadoop2.7/examples/src/main/java/org/apache/spark/examples/JavaHdfsLR.java\n",
            "spark-2.4.7-bin-hadoop2.7/examples/src/main/java/org/apache/spark/examples/sql/\n",
            "spark-2.4.7-bin-hadoop2.7/examples/src/main/java/org/apache/spark/examples/sql/JavaSparkSQLExample.java\n",
            "spark-2.4.7-bin-hadoop2.7/examples/src/main/java/org/apache/spark/examples/sql/JavaUserDefinedTypedAggregation.java\n",
            "spark-2.4.7-bin-hadoop2.7/examples/src/main/java/org/apache/spark/examples/sql/JavaSQLDataSourceExample.java\n",
            "spark-2.4.7-bin-hadoop2.7/examples/src/main/java/org/apache/spark/examples/sql/streaming/\n",
            "spark-2.4.7-bin-hadoop2.7/examples/src/main/java/org/apache/spark/examples/sql/streaming/JavaStructuredNetworkWordCount.java\n",
            "spark-2.4.7-bin-hadoop2.7/examples/src/main/java/org/apache/spark/examples/sql/streaming/JavaStructuredKafkaWordCount.java\n",
            "spark-2.4.7-bin-hadoop2.7/examples/src/main/java/org/apache/spark/examples/sql/streaming/JavaStructuredSessionization.java\n",
            "spark-2.4.7-bin-hadoop2.7/examples/src/main/java/org/apache/spark/examples/sql/streaming/JavaStructuredNetworkWordCountWindowed.java\n",
            "spark-2.4.7-bin-hadoop2.7/examples/src/main/java/org/apache/spark/examples/sql/JavaUserDefinedUntypedAggregation.java\n",
            "spark-2.4.7-bin-hadoop2.7/examples/src/main/java/org/apache/spark/examples/sql/hive/\n",
            "spark-2.4.7-bin-hadoop2.7/examples/src/main/java/org/apache/spark/examples/sql/hive/JavaSparkHiveExample.java\n",
            "spark-2.4.7-bin-hadoop2.7/examples/src/main/java/org/apache/spark/examples/streaming/\n",
            "spark-2.4.7-bin-hadoop2.7/examples/src/main/java/org/apache/spark/examples/streaming/JavaCustomReceiver.java\n",
            "spark-2.4.7-bin-hadoop2.7/examples/src/main/java/org/apache/spark/examples/streaming/JavaRecord.java\n",
            "spark-2.4.7-bin-hadoop2.7/examples/src/main/java/org/apache/spark/examples/streaming/JavaQueueStream.java\n",
            "spark-2.4.7-bin-hadoop2.7/examples/src/main/java/org/apache/spark/examples/streaming/JavaRecoverableNetworkWordCount.java\n",
            "spark-2.4.7-bin-hadoop2.7/examples/src/main/java/org/apache/spark/examples/streaming/JavaSqlNetworkWordCount.java\n",
            "spark-2.4.7-bin-hadoop2.7/examples/src/main/java/org/apache/spark/examples/streaming/JavaStatefulNetworkWordCount.java\n",
            "spark-2.4.7-bin-hadoop2.7/examples/src/main/java/org/apache/spark/examples/streaming/JavaDirectKafkaWordCount.java\n",
            "spark-2.4.7-bin-hadoop2.7/examples/src/main/java/org/apache/spark/examples/streaming/JavaNetworkWordCount.java\n",
            "spark-2.4.7-bin-hadoop2.7/examples/src/main/java/org/apache/spark/examples/ml/\n",
            "spark-2.4.7-bin-hadoop2.7/examples/src/main/java/org/apache/spark/examples/ml/JavaGradientBoostedTreeRegressorExample.java\n",
            "spark-2.4.7-bin-hadoop2.7/examples/src/main/java/org/apache/spark/examples/ml/JavaPowerIterationClusteringExample.java\n",
            "spark-2.4.7-bin-hadoop2.7/examples/src/main/java/org/apache/spark/examples/ml/JavaMaxAbsScalerExample.java\n",
            "spark-2.4.7-bin-hadoop2.7/examples/src/main/java/org/apache/spark/examples/ml/JavaGradientBoostedTreeClassifierExample.java\n",
            "spark-2.4.7-bin-hadoop2.7/examples/src/main/java/org/apache/spark/examples/ml/JavaSQLTransformerExample.java\n",
            "spark-2.4.7-bin-hadoop2.7/examples/src/main/java/org/apache/spark/examples/ml/JavaModelSelectionViaCrossValidationExample.java\n",
            "spark-2.4.7-bin-hadoop2.7/examples/src/main/java/org/apache/spark/examples/ml/JavaCorrelationExample.java\n",
            "spark-2.4.7-bin-hadoop2.7/examples/src/main/java/org/apache/spark/examples/ml/JavaDecisionTreeClassificationExample.java\n",
            "spark-2.4.7-bin-hadoop2.7/examples/src/main/java/org/apache/spark/examples/ml/JavaDocument.java\n",
            "spark-2.4.7-bin-hadoop2.7/examples/src/main/java/org/apache/spark/examples/ml/JavaChiSqSelectorExample.java\n",
            "spark-2.4.7-bin-hadoop2.7/examples/src/main/java/org/apache/spark/examples/ml/JavaLabeledDocument.java\n",
            "spark-2.4.7-bin-hadoop2.7/examples/src/main/java/org/apache/spark/examples/ml/JavaGaussianMixtureExample.java\n",
            "spark-2.4.7-bin-hadoop2.7/examples/src/main/java/org/apache/spark/examples/ml/JavaModelSelectionViaTrainValidationSplitExample.java\n",
            "spark-2.4.7-bin-hadoop2.7/examples/src/main/java/org/apache/spark/examples/ml/JavaDCTExample.java\n",
            "spark-2.4.7-bin-hadoop2.7/examples/src/main/java/org/apache/spark/examples/ml/JavaNaiveBayesExample.java\n",
            "spark-2.4.7-bin-hadoop2.7/examples/src/main/java/org/apache/spark/examples/ml/JavaRandomForestRegressorExample.java\n",
            "spark-2.4.7-bin-hadoop2.7/examples/src/main/java/org/apache/spark/examples/ml/JavaPolynomialExpansionExample.java\n",
            "spark-2.4.7-bin-hadoop2.7/examples/src/main/java/org/apache/spark/examples/ml/JavaLDAExample.java\n",
            "spark-2.4.7-bin-hadoop2.7/examples/src/main/java/org/apache/spark/examples/ml/JavaAFTSurvivalRegressionExample.java\n",
            "spark-2.4.7-bin-hadoop2.7/examples/src/main/java/org/apache/spark/examples/ml/JavaEstimatorTransformerParamExample.java\n",
            "spark-2.4.7-bin-hadoop2.7/examples/src/main/java/org/apache/spark/examples/ml/JavaMultilayerPerceptronClassifierExample.java\n",
            "spark-2.4.7-bin-hadoop2.7/examples/src/main/java/org/apache/spark/examples/ml/JavaRFormulaExample.java\n",
            "spark-2.4.7-bin-hadoop2.7/examples/src/main/java/org/apache/spark/examples/ml/JavaBucketedRandomProjectionLSHExample.java\n",
            "spark-2.4.7-bin-hadoop2.7/examples/src/main/java/org/apache/spark/examples/ml/JavaLogisticRegressionWithElasticNetExample.java\n",
            "spark-2.4.7-bin-hadoop2.7/examples/src/main/java/org/apache/spark/examples/ml/JavaVectorSlicerExample.java\n",
            "spark-2.4.7-bin-hadoop2.7/examples/src/main/java/org/apache/spark/examples/ml/JavaMinHashLSHExample.java\n",
            "spark-2.4.7-bin-hadoop2.7/examples/src/main/java/org/apache/spark/examples/ml/JavaBisectingKMeansExample.java\n",
            "spark-2.4.7-bin-hadoop2.7/examples/src/main/java/org/apache/spark/examples/ml/JavaStandardScalerExample.java\n",
            "spark-2.4.7-bin-hadoop2.7/examples/src/main/java/org/apache/spark/examples/ml/JavaIndexToStringExample.java\n",
            "spark-2.4.7-bin-hadoop2.7/examples/src/main/java/org/apache/spark/examples/ml/JavaPipelineExample.java\n",
            "spark-2.4.7-bin-hadoop2.7/examples/src/main/java/org/apache/spark/examples/ml/JavaNGramExample.java\n",
            "spark-2.4.7-bin-hadoop2.7/examples/src/main/java/org/apache/spark/examples/ml/JavaGeneralizedLinearRegressionExample.java\n",
            "spark-2.4.7-bin-hadoop2.7/examples/src/main/java/org/apache/spark/examples/ml/JavaIsotonicRegressionExample.java\n",
            "spark-2.4.7-bin-hadoop2.7/examples/src/main/java/org/apache/spark/examples/ml/JavaWord2VecExample.java\n",
            "spark-2.4.7-bin-hadoop2.7/examples/src/main/java/org/apache/spark/examples/ml/JavaFPGrowthExample.java\n",
            "spark-2.4.7-bin-hadoop2.7/examples/src/main/java/org/apache/spark/examples/ml/JavaMulticlassLogisticRegressionWithElasticNetExample.java\n",
            "spark-2.4.7-bin-hadoop2.7/examples/src/main/java/org/apache/spark/examples/ml/JavaVectorAssemblerExample.java\n",
            "spark-2.4.7-bin-hadoop2.7/examples/src/main/java/org/apache/spark/examples/ml/JavaLinearRegressionWithElasticNetExample.java\n",
            "spark-2.4.7-bin-hadoop2.7/examples/src/main/java/org/apache/spark/examples/ml/JavaElementwiseProductExample.java\n",
            "spark-2.4.7-bin-hadoop2.7/examples/src/main/java/org/apache/spark/examples/ml/JavaOneVsRestExample.java\n",
            "spark-2.4.7-bin-hadoop2.7/examples/src/main/java/org/apache/spark/examples/ml/JavaInteractionExample.java\n",
            "spark-2.4.7-bin-hadoop2.7/examples/src/main/java/org/apache/spark/examples/ml/JavaVectorSizeHintExample.java\n",
            "spark-2.4.7-bin-hadoop2.7/examples/src/main/java/org/apache/spark/examples/ml/JavaPrefixSpanExample.java\n",
            "spark-2.4.7-bin-hadoop2.7/examples/src/main/java/org/apache/spark/examples/ml/JavaNormalizerExample.java\n",
            "spark-2.4.7-bin-hadoop2.7/examples/src/main/java/org/apache/spark/examples/ml/JavaTokenizerExample.java\n",
            "spark-2.4.7-bin-hadoop2.7/examples/src/main/java/org/apache/spark/examples/ml/JavaLinearSVCExample.java\n",
            "spark-2.4.7-bin-hadoop2.7/examples/src/main/java/org/apache/spark/examples/ml/JavaVectorIndexerExample.java\n",
            "spark-2.4.7-bin-hadoop2.7/examples/src/main/java/org/apache/spark/examples/ml/JavaCountVectorizerExample.java\n",
            "spark-2.4.7-bin-hadoop2.7/examples/src/main/java/org/apache/spark/examples/ml/JavaStringIndexerExample.java\n",
            "spark-2.4.7-bin-hadoop2.7/examples/src/main/java/org/apache/spark/examples/ml/JavaBinarizerExample.java\n",
            "spark-2.4.7-bin-hadoop2.7/examples/src/main/java/org/apache/spark/examples/ml/JavaChiSquareTestExample.java\n",
            "spark-2.4.7-bin-hadoop2.7/examples/src/main/java/org/apache/spark/examples/ml/JavaPCAExample.java\n",
            "spark-2.4.7-bin-hadoop2.7/examples/src/main/java/org/apache/spark/examples/ml/JavaRandomForestClassifierExample.java\n",
            "spark-2.4.7-bin-hadoop2.7/examples/src/main/java/org/apache/spark/examples/ml/JavaSummarizerExample.java\n",
            "spark-2.4.7-bin-hadoop2.7/examples/src/main/java/org/apache/spark/examples/ml/JavaQuantileDiscretizerExample.java\n",
            "spark-2.4.7-bin-hadoop2.7/examples/src/main/java/org/apache/spark/examples/ml/JavaALSExample.java\n",
            "spark-2.4.7-bin-hadoop2.7/examples/src/main/java/org/apache/spark/examples/ml/JavaOneHotEncoderEstimatorExample.java\n",
            "spark-2.4.7-bin-hadoop2.7/examples/src/main/java/org/apache/spark/examples/ml/JavaFeatureHasherExample.java\n",
            "spark-2.4.7-bin-hadoop2.7/examples/src/main/java/org/apache/spark/examples/ml/JavaTfIdfExample.java\n",
            "spark-2.4.7-bin-hadoop2.7/examples/src/main/java/org/apache/spark/examples/ml/JavaStopWordsRemoverExample.java\n",
            "spark-2.4.7-bin-hadoop2.7/examples/src/main/java/org/apache/spark/examples/ml/JavaMinMaxScalerExample.java\n",
            "spark-2.4.7-bin-hadoop2.7/examples/src/main/java/org/apache/spark/examples/ml/JavaLogisticRegressionSummaryExample.java\n",
            "spark-2.4.7-bin-hadoop2.7/examples/src/main/java/org/apache/spark/examples/ml/JavaKMeansExample.java\n",
            "spark-2.4.7-bin-hadoop2.7/examples/src/main/java/org/apache/spark/examples/ml/JavaDecisionTreeRegressionExample.java\n",
            "spark-2.4.7-bin-hadoop2.7/examples/src/main/java/org/apache/spark/examples/ml/JavaBucketizerExample.java\n",
            "spark-2.4.7-bin-hadoop2.7/examples/src/main/java/org/apache/spark/examples/ml/JavaImputerExample.java\n",
            "spark-2.4.7-bin-hadoop2.7/examples/src/main/java/org/apache/spark/examples/JavaLogQuery.java\n",
            "spark-2.4.7-bin-hadoop2.7/examples/src/main/java/org/apache/spark/examples/JavaSparkPi.java\n",
            "spark-2.4.7-bin-hadoop2.7/examples/src/main/java/org/apache/spark/examples/mllib/\n",
            "spark-2.4.7-bin-hadoop2.7/examples/src/main/java/org/apache/spark/examples/mllib/JavaPowerIterationClusteringExample.java\n",
            "spark-2.4.7-bin-hadoop2.7/examples/src/main/java/org/apache/spark/examples/mllib/JavaALS.java\n",
            "spark-2.4.7-bin-hadoop2.7/examples/src/main/java/org/apache/spark/examples/mllib/JavaDecisionTreeClassificationExample.java\n",
            "spark-2.4.7-bin-hadoop2.7/examples/src/main/java/org/apache/spark/examples/mllib/JavaSVMWithSGDExample.java\n",
            "spark-2.4.7-bin-hadoop2.7/examples/src/main/java/org/apache/spark/examples/mllib/JavaLinearRegressionWithSGDExample.java\n",
            "spark-2.4.7-bin-hadoop2.7/examples/src/main/java/org/apache/spark/examples/mllib/JavaGradientBoostingClassificationExample.java\n",
            "spark-2.4.7-bin-hadoop2.7/examples/src/main/java/org/apache/spark/examples/mllib/JavaChiSqSelectorExample.java\n",
            "spark-2.4.7-bin-hadoop2.7/examples/src/main/java/org/apache/spark/examples/mllib/JavaRankingMetricsExample.java\n",
            "spark-2.4.7-bin-hadoop2.7/examples/src/main/java/org/apache/spark/examples/mllib/JavaKernelDensityEstimationExample.java\n",
            "spark-2.4.7-bin-hadoop2.7/examples/src/main/java/org/apache/spark/examples/mllib/JavaGaussianMixtureExample.java\n",
            "spark-2.4.7-bin-hadoop2.7/examples/src/main/java/org/apache/spark/examples/mllib/JavaNaiveBayesExample.java\n",
            "spark-2.4.7-bin-hadoop2.7/examples/src/main/java/org/apache/spark/examples/mllib/JavaStreamingTestExample.java\n",
            "spark-2.4.7-bin-hadoop2.7/examples/src/main/java/org/apache/spark/examples/mllib/JavaSimpleFPGrowth.java\n",
            "spark-2.4.7-bin-hadoop2.7/examples/src/main/java/org/apache/spark/examples/mllib/JavaAssociationRulesExample.java\n",
            "spark-2.4.7-bin-hadoop2.7/examples/src/main/java/org/apache/spark/examples/mllib/JavaLBFGSExample.java\n",
            "spark-2.4.7-bin-hadoop2.7/examples/src/main/java/org/apache/spark/examples/mllib/JavaBinaryClassificationMetricsExample.java\n",
            "spark-2.4.7-bin-hadoop2.7/examples/src/main/java/org/apache/spark/examples/mllib/JavaRecommendationExample.java\n",
            "spark-2.4.7-bin-hadoop2.7/examples/src/main/java/org/apache/spark/examples/mllib/JavaBisectingKMeansExample.java\n",
            "spark-2.4.7-bin-hadoop2.7/examples/src/main/java/org/apache/spark/examples/mllib/JavaHypothesisTestingExample.java\n",
            "spark-2.4.7-bin-hadoop2.7/examples/src/main/java/org/apache/spark/examples/mllib/JavaLatentDirichletAllocationExample.java\n",
            "spark-2.4.7-bin-hadoop2.7/examples/src/main/java/org/apache/spark/examples/mllib/JavaIsotonicRegressionExample.java\n",
            "spark-2.4.7-bin-hadoop2.7/examples/src/main/java/org/apache/spark/examples/mllib/JavaMulticlassClassificationMetricsExample.java\n",
            "spark-2.4.7-bin-hadoop2.7/examples/src/main/java/org/apache/spark/examples/mllib/JavaSVDExample.java\n",
            "spark-2.4.7-bin-hadoop2.7/examples/src/main/java/org/apache/spark/examples/mllib/JavaStratifiedSamplingExample.java\n",
            "spark-2.4.7-bin-hadoop2.7/examples/src/main/java/org/apache/spark/examples/mllib/JavaElementwiseProductExample.java\n",
            "spark-2.4.7-bin-hadoop2.7/examples/src/main/java/org/apache/spark/examples/mllib/JavaRegressionMetricsExample.java\n",
            "spark-2.4.7-bin-hadoop2.7/examples/src/main/java/org/apache/spark/examples/mllib/JavaLogisticRegressionWithLBFGSExample.java\n",
            "spark-2.4.7-bin-hadoop2.7/examples/src/main/java/org/apache/spark/examples/mllib/JavaPrefixSpanExample.java\n",
            "spark-2.4.7-bin-hadoop2.7/examples/src/main/java/org/apache/spark/examples/mllib/JavaRandomForestClassificationExample.java\n",
            "spark-2.4.7-bin-hadoop2.7/examples/src/main/java/org/apache/spark/examples/mllib/JavaHypothesisTestingKolmogorovSmirnovTestExample.java\n",
            "spark-2.4.7-bin-hadoop2.7/examples/src/main/java/org/apache/spark/examples/mllib/JavaRandomForestRegressionExample.java\n",
            "spark-2.4.7-bin-hadoop2.7/examples/src/main/java/org/apache/spark/examples/mllib/JavaCorrelationsExample.java\n",
            "spark-2.4.7-bin-hadoop2.7/examples/src/main/java/org/apache/spark/examples/mllib/JavaMultiLabelClassificationMetricsExample.java\n",
            "spark-2.4.7-bin-hadoop2.7/examples/src/main/java/org/apache/spark/examples/mllib/JavaPCAExample.java\n",
            "spark-2.4.7-bin-hadoop2.7/examples/src/main/java/org/apache/spark/examples/mllib/JavaKMeansExample.java\n",
            "spark-2.4.7-bin-hadoop2.7/examples/src/main/java/org/apache/spark/examples/mllib/JavaDecisionTreeRegressionExample.java\n",
            "spark-2.4.7-bin-hadoop2.7/examples/src/main/java/org/apache/spark/examples/mllib/JavaSummaryStatisticsExample.java\n",
            "spark-2.4.7-bin-hadoop2.7/examples/src/main/java/org/apache/spark/examples/mllib/JavaGradientBoostingRegressionExample.java\n",
            "spark-2.4.7-bin-hadoop2.7/examples/src/main/python/\n",
            "spark-2.4.7-bin-hadoop2.7/examples/src/main/python/parquet_inputformat.py\n",
            "spark-2.4.7-bin-hadoop2.7/examples/src/main/python/pagerank.py\n",
            "spark-2.4.7-bin-hadoop2.7/examples/src/main/python/transitive_closure.py\n",
            "spark-2.4.7-bin-hadoop2.7/examples/src/main/python/logistic_regression.py\n",
            "spark-2.4.7-bin-hadoop2.7/examples/src/main/python/kmeans.py\n",
            "spark-2.4.7-bin-hadoop2.7/examples/src/main/python/wordcount.py\n",
            "spark-2.4.7-bin-hadoop2.7/examples/src/main/python/sql/\n",
            "spark-2.4.7-bin-hadoop2.7/examples/src/main/python/sql/basic.py\n",
            "spark-2.4.7-bin-hadoop2.7/examples/src/main/python/sql/arrow.py\n",
            "spark-2.4.7-bin-hadoop2.7/examples/src/main/python/sql/hive.py\n",
            "spark-2.4.7-bin-hadoop2.7/examples/src/main/python/sql/streaming/\n",
            "spark-2.4.7-bin-hadoop2.7/examples/src/main/python/sql/streaming/structured_network_wordcount.py\n",
            "spark-2.4.7-bin-hadoop2.7/examples/src/main/python/sql/streaming/structured_kafka_wordcount.py\n",
            "spark-2.4.7-bin-hadoop2.7/examples/src/main/python/sql/streaming/structured_network_wordcount_windowed.py\n",
            "spark-2.4.7-bin-hadoop2.7/examples/src/main/python/sql/datasource.py\n",
            "spark-2.4.7-bin-hadoop2.7/examples/src/main/python/status_api_demo.py\n",
            "spark-2.4.7-bin-hadoop2.7/examples/src/main/python/pi.py\n",
            "spark-2.4.7-bin-hadoop2.7/examples/src/main/python/streaming/\n",
            "spark-2.4.7-bin-hadoop2.7/examples/src/main/python/streaming/hdfs_wordcount.py\n",
            "spark-2.4.7-bin-hadoop2.7/examples/src/main/python/streaming/recoverable_network_wordcount.py\n",
            "spark-2.4.7-bin-hadoop2.7/examples/src/main/python/streaming/network_wordjoinsentiments.py\n",
            "spark-2.4.7-bin-hadoop2.7/examples/src/main/python/streaming/stateful_network_wordcount.py\n",
            "spark-2.4.7-bin-hadoop2.7/examples/src/main/python/streaming/kafka_wordcount.py\n",
            "spark-2.4.7-bin-hadoop2.7/examples/src/main/python/streaming/sql_network_wordcount.py\n",
            "spark-2.4.7-bin-hadoop2.7/examples/src/main/python/streaming/network_wordcount.py\n",
            "spark-2.4.7-bin-hadoop2.7/examples/src/main/python/streaming/direct_kafka_wordcount.py\n",
            "spark-2.4.7-bin-hadoop2.7/examples/src/main/python/streaming/flume_wordcount.py\n",
            "spark-2.4.7-bin-hadoop2.7/examples/src/main/python/streaming/queue_stream.py\n",
            "spark-2.4.7-bin-hadoop2.7/examples/src/main/python/ml/\n",
            "spark-2.4.7-bin-hadoop2.7/examples/src/main/python/ml/logistic_regression_with_elastic_net.py\n",
            "spark-2.4.7-bin-hadoop2.7/examples/src/main/python/ml/decision_tree_regression_example.py\n",
            "spark-2.4.7-bin-hadoop2.7/examples/src/main/python/ml/generalized_linear_regression_example.py\n",
            "spark-2.4.7-bin-hadoop2.7/examples/src/main/python/ml/vector_assembler_example.py\n",
            "spark-2.4.7-bin-hadoop2.7/examples/src/main/python/ml/elementwise_product_example.py\n",
            "spark-2.4.7-bin-hadoop2.7/examples/src/main/python/ml/polynomial_expansion_example.py\n",
            "spark-2.4.7-bin-hadoop2.7/examples/src/main/python/ml/vector_slicer_example.py\n",
            "spark-2.4.7-bin-hadoop2.7/examples/src/main/python/ml/train_validation_split.py\n",
            "spark-2.4.7-bin-hadoop2.7/examples/src/main/python/ml/index_to_string_example.py\n",
            "spark-2.4.7-bin-hadoop2.7/examples/src/main/python/ml/n_gram_example.py\n",
            "spark-2.4.7-bin-hadoop2.7/examples/src/main/python/ml/pca_example.py\n",
            "spark-2.4.7-bin-hadoop2.7/examples/src/main/python/ml/one_vs_rest_example.py\n",
            "spark-2.4.7-bin-hadoop2.7/examples/src/main/python/ml/logistic_regression_summary_example.py\n",
            "spark-2.4.7-bin-hadoop2.7/examples/src/main/python/ml/dct_example.py\n",
            "spark-2.4.7-bin-hadoop2.7/examples/src/main/python/ml/quantile_discretizer_example.py\n",
            "spark-2.4.7-bin-hadoop2.7/examples/src/main/python/ml/bucketizer_example.py\n",
            "spark-2.4.7-bin-hadoop2.7/examples/src/main/python/ml/binarizer_example.py\n",
            "spark-2.4.7-bin-hadoop2.7/examples/src/main/python/ml/fpgrowth_example.py\n",
            "spark-2.4.7-bin-hadoop2.7/examples/src/main/python/ml/stopwords_remover_example.py\n",
            "spark-2.4.7-bin-hadoop2.7/examples/src/main/python/ml/correlation_example.py\n",
            "spark-2.4.7-bin-hadoop2.7/examples/src/main/python/ml/min_hash_lsh_example.py\n",
            "spark-2.4.7-bin-hadoop2.7/examples/src/main/python/ml/standard_scaler_example.py\n",
            "spark-2.4.7-bin-hadoop2.7/examples/src/main/python/ml/multiclass_logistic_regression_with_elastic_net.py\n",
            "spark-2.4.7-bin-hadoop2.7/examples/src/main/python/ml/naive_bayes_example.py\n",
            "spark-2.4.7-bin-hadoop2.7/examples/src/main/python/ml/linearsvc.py\n",
            "spark-2.4.7-bin-hadoop2.7/examples/src/main/python/ml/vector_size_hint_example.py\n",
            "spark-2.4.7-bin-hadoop2.7/examples/src/main/python/ml/rformula_example.py\n",
            "spark-2.4.7-bin-hadoop2.7/examples/src/main/python/ml/count_vectorizer_example.py\n",
            "spark-2.4.7-bin-hadoop2.7/examples/src/main/python/ml/min_max_scaler_example.py\n",
            "spark-2.4.7-bin-hadoop2.7/examples/src/main/python/ml/cross_validator.py\n",
            "spark-2.4.7-bin-hadoop2.7/examples/src/main/python/ml/gaussian_mixture_example.py\n",
            "spark-2.4.7-bin-hadoop2.7/examples/src/main/python/ml/tokenizer_example.py\n",
            "spark-2.4.7-bin-hadoop2.7/examples/src/main/python/ml/dataframe_example.py\n",
            "spark-2.4.7-bin-hadoop2.7/examples/src/main/python/ml/chisq_selector_example.py\n",
            "spark-2.4.7-bin-hadoop2.7/examples/src/main/python/ml/max_abs_scaler_example.py\n",
            "spark-2.4.7-bin-hadoop2.7/examples/src/main/python/ml/gradient_boosted_tree_classifier_example.py\n",
            "spark-2.4.7-bin-hadoop2.7/examples/src/main/python/ml/random_forest_classifier_example.py\n",
            "spark-2.4.7-bin-hadoop2.7/examples/src/main/python/ml/bisecting_k_means_example.py\n",
            "spark-2.4.7-bin-hadoop2.7/examples/src/main/python/ml/aft_survival_regression.py\n",
            "spark-2.4.7-bin-hadoop2.7/examples/src/main/python/ml/kmeans_example.py\n",
            "spark-2.4.7-bin-hadoop2.7/examples/src/main/python/ml/decision_tree_classification_example.py\n",
            "spark-2.4.7-bin-hadoop2.7/examples/src/main/python/ml/linear_regression_with_elastic_net.py\n",
            "spark-2.4.7-bin-hadoop2.7/examples/src/main/python/ml/lda_example.py\n",
            "spark-2.4.7-bin-hadoop2.7/examples/src/main/python/ml/string_indexer_example.py\n",
            "spark-2.4.7-bin-hadoop2.7/examples/src/main/python/ml/estimator_transformer_param_example.py\n",
            "spark-2.4.7-bin-hadoop2.7/examples/src/main/python/ml/imputer_example.py\n",
            "spark-2.4.7-bin-hadoop2.7/examples/src/main/python/ml/isotonic_regression_example.py\n",
            "spark-2.4.7-bin-hadoop2.7/examples/src/main/python/ml/als_example.py\n",
            "spark-2.4.7-bin-hadoop2.7/examples/src/main/python/ml/sql_transformer.py\n",
            "spark-2.4.7-bin-hadoop2.7/examples/src/main/python/ml/summarizer_example.py\n",
            "spark-2.4.7-bin-hadoop2.7/examples/src/main/python/ml/multilayer_perceptron_classification.py\n",
            "spark-2.4.7-bin-hadoop2.7/examples/src/main/python/ml/prefixspan_example.py\n",
            "spark-2.4.7-bin-hadoop2.7/examples/src/main/python/ml/normalizer_example.py\n",
            "spark-2.4.7-bin-hadoop2.7/examples/src/main/python/ml/bucketed_random_projection_lsh_example.py\n",
            "spark-2.4.7-bin-hadoop2.7/examples/src/main/python/ml/feature_hasher_example.py\n",
            "spark-2.4.7-bin-hadoop2.7/examples/src/main/python/ml/random_forest_regressor_example.py\n",
            "spark-2.4.7-bin-hadoop2.7/examples/src/main/python/ml/chi_square_test_example.py\n",
            "spark-2.4.7-bin-hadoop2.7/examples/src/main/python/ml/tf_idf_example.py\n",
            "spark-2.4.7-bin-hadoop2.7/examples/src/main/python/ml/vector_indexer_example.py\n",
            "spark-2.4.7-bin-hadoop2.7/examples/src/main/python/ml/onehot_encoder_estimator_example.py\n",
            "spark-2.4.7-bin-hadoop2.7/examples/src/main/python/ml/pipeline_example.py\n",
            "spark-2.4.7-bin-hadoop2.7/examples/src/main/python/ml/word2vec_example.py\n",
            "spark-2.4.7-bin-hadoop2.7/examples/src/main/python/ml/gradient_boosted_tree_regressor_example.py\n",
            "spark-2.4.7-bin-hadoop2.7/examples/src/main/python/mllib/\n",
            "spark-2.4.7-bin-hadoop2.7/examples/src/main/python/mllib/summary_statistics_example.py\n",
            "spark-2.4.7-bin-hadoop2.7/examples/src/main/python/mllib/decision_tree_regression_example.py\n",
            "spark-2.4.7-bin-hadoop2.7/examples/src/main/python/mllib/stratified_sampling_example.py\n",
            "spark-2.4.7-bin-hadoop2.7/examples/src/main/python/mllib/multi_class_metrics_example.py\n",
            "spark-2.4.7-bin-hadoop2.7/examples/src/main/python/mllib/elementwise_product_example.py\n",
            "spark-2.4.7-bin-hadoop2.7/examples/src/main/python/mllib/streaming_k_means_example.py\n",
            "spark-2.4.7-bin-hadoop2.7/examples/src/main/python/mllib/binary_classification_metrics_example.py\n",
            "spark-2.4.7-bin-hadoop2.7/examples/src/main/python/mllib/svd_example.py\n",
            "spark-2.4.7-bin-hadoop2.7/examples/src/main/python/mllib/random_forest_classification_example.py\n",
            "spark-2.4.7-bin-hadoop2.7/examples/src/main/python/mllib/correlations_example.py\n",
            "spark-2.4.7-bin-hadoop2.7/examples/src/main/python/mllib/pca_rowmatrix_example.py\n",
            "spark-2.4.7-bin-hadoop2.7/examples/src/main/python/mllib/hypothesis_testing_kolmogorov_smirnov_test_example.py\n",
            "spark-2.4.7-bin-hadoop2.7/examples/src/main/python/mllib/sampled_rdds.py\n",
            "spark-2.4.7-bin-hadoop2.7/examples/src/main/python/mllib/correlations.py\n",
            "spark-2.4.7-bin-hadoop2.7/examples/src/main/python/mllib/regression_metrics_example.py\n",
            "spark-2.4.7-bin-hadoop2.7/examples/src/main/python/mllib/logistic_regression.py\n",
            "spark-2.4.7-bin-hadoop2.7/examples/src/main/python/mllib/linear_regression_with_sgd_example.py\n",
            "spark-2.4.7-bin-hadoop2.7/examples/src/main/python/mllib/logistic_regression_with_lbfgs_example.py\n",
            "spark-2.4.7-bin-hadoop2.7/examples/src/main/python/mllib/fpgrowth_example.py\n",
            "spark-2.4.7-bin-hadoop2.7/examples/src/main/python/mllib/svm_with_sgd_example.py\n",
            "spark-2.4.7-bin-hadoop2.7/examples/src/main/python/mllib/standard_scaler_example.py\n",
            "spark-2.4.7-bin-hadoop2.7/examples/src/main/python/mllib/naive_bayes_example.py\n",
            "spark-2.4.7-bin-hadoop2.7/examples/src/main/python/mllib/power_iteration_clustering_example.py\n",
            "spark-2.4.7-bin-hadoop2.7/examples/src/main/python/mllib/k_means_example.py\n",
            "spark-2.4.7-bin-hadoop2.7/examples/src/main/python/mllib/kmeans.py\n",
            "spark-2.4.7-bin-hadoop2.7/examples/src/main/python/mllib/kernel_density_estimation_example.py\n",
            "spark-2.4.7-bin-hadoop2.7/examples/src/main/python/mllib/gaussian_mixture_example.py\n",
            "spark-2.4.7-bin-hadoop2.7/examples/src/main/python/mllib/word2vec.py\n",
            "spark-2.4.7-bin-hadoop2.7/examples/src/main/python/mllib/random_rdd_generation.py\n",
            "spark-2.4.7-bin-hadoop2.7/examples/src/main/python/mllib/multi_label_metrics_example.py\n",
            "spark-2.4.7-bin-hadoop2.7/examples/src/main/python/mllib/bisecting_k_means_example.py\n",
            "spark-2.4.7-bin-hadoop2.7/examples/src/main/python/mllib/gradient_boosting_classification_example.py\n",
            "spark-2.4.7-bin-hadoop2.7/examples/src/main/python/mllib/hypothesis_testing_example.py\n",
            "spark-2.4.7-bin-hadoop2.7/examples/src/main/python/mllib/decision_tree_classification_example.py\n",
            "spark-2.4.7-bin-hadoop2.7/examples/src/main/python/mllib/recommendation_example.py\n",
            "spark-2.4.7-bin-hadoop2.7/examples/src/main/python/mllib/gaussian_mixture_model.py\n",
            "spark-2.4.7-bin-hadoop2.7/examples/src/main/python/mllib/isotonic_regression_example.py\n",
            "spark-2.4.7-bin-hadoop2.7/examples/src/main/python/mllib/gradient_boosting_regression_example.py\n",
            "spark-2.4.7-bin-hadoop2.7/examples/src/main/python/mllib/normalizer_example.py\n",
            "spark-2.4.7-bin-hadoop2.7/examples/src/main/python/mllib/random_forest_regression_example.py\n",
            "spark-2.4.7-bin-hadoop2.7/examples/src/main/python/mllib/tf_idf_example.py\n",
            "spark-2.4.7-bin-hadoop2.7/examples/src/main/python/mllib/latent_dirichlet_allocation_example.py\n",
            "spark-2.4.7-bin-hadoop2.7/examples/src/main/python/mllib/ranking_metrics_example.py\n",
            "spark-2.4.7-bin-hadoop2.7/examples/src/main/python/mllib/word2vec_example.py\n",
            "spark-2.4.7-bin-hadoop2.7/examples/src/main/python/mllib/streaming_linear_regression_example.py\n",
            "spark-2.4.7-bin-hadoop2.7/examples/src/main/python/als.py\n",
            "spark-2.4.7-bin-hadoop2.7/examples/src/main/python/sort.py\n",
            "spark-2.4.7-bin-hadoop2.7/examples/src/main/python/avro_inputformat.py\n",
            "spark-2.4.7-bin-hadoop2.7/examples/jars/\n",
            "spark-2.4.7-bin-hadoop2.7/examples/jars/spark-examples_2.11-2.4.7.jar\n",
            "spark-2.4.7-bin-hadoop2.7/examples/jars/scopt_2.11-3.7.0.jar\n",
            "spark-2.4.7-bin-hadoop2.7/R/\n",
            "spark-2.4.7-bin-hadoop2.7/R/lib/\n",
            "spark-2.4.7-bin-hadoop2.7/R/lib/SparkR/\n",
            "spark-2.4.7-bin-hadoop2.7/R/lib/SparkR/tests/\n",
            "spark-2.4.7-bin-hadoop2.7/R/lib/SparkR/tests/testthat/\n",
            "spark-2.4.7-bin-hadoop2.7/R/lib/SparkR/tests/testthat/test_basic.R\n",
            "spark-2.4.7-bin-hadoop2.7/R/lib/SparkR/html/\n",
            "spark-2.4.7-bin-hadoop2.7/R/lib/SparkR/html/R.css\n",
            "spark-2.4.7-bin-hadoop2.7/R/lib/SparkR/html/00Index.html\n",
            "spark-2.4.7-bin-hadoop2.7/R/lib/SparkR/NAMESPACE\n",
            "spark-2.4.7-bin-hadoop2.7/R/lib/SparkR/profile/\n",
            "spark-2.4.7-bin-hadoop2.7/R/lib/SparkR/profile/shell.R\n",
            "spark-2.4.7-bin-hadoop2.7/R/lib/SparkR/profile/general.R\n",
            "spark-2.4.7-bin-hadoop2.7/R/lib/SparkR/Meta/\n",
            "spark-2.4.7-bin-hadoop2.7/R/lib/SparkR/Meta/Rd.rds\n",
            "spark-2.4.7-bin-hadoop2.7/R/lib/SparkR/Meta/features.rds\n",
            "spark-2.4.7-bin-hadoop2.7/R/lib/SparkR/Meta/hsearch.rds\n",
            "spark-2.4.7-bin-hadoop2.7/R/lib/SparkR/Meta/links.rds\n",
            "spark-2.4.7-bin-hadoop2.7/R/lib/SparkR/Meta/nsInfo.rds\n",
            "spark-2.4.7-bin-hadoop2.7/R/lib/SparkR/Meta/package.rds\n",
            "spark-2.4.7-bin-hadoop2.7/R/lib/SparkR/worker/\n",
            "spark-2.4.7-bin-hadoop2.7/R/lib/SparkR/worker/daemon.R\n",
            "spark-2.4.7-bin-hadoop2.7/R/lib/SparkR/worker/worker.R\n",
            "spark-2.4.7-bin-hadoop2.7/R/lib/SparkR/help/\n",
            "spark-2.4.7-bin-hadoop2.7/R/lib/SparkR/help/paths.rds\n",
            "spark-2.4.7-bin-hadoop2.7/R/lib/SparkR/help/aliases.rds\n",
            "spark-2.4.7-bin-hadoop2.7/R/lib/SparkR/help/SparkR.rdx\n",
            "spark-2.4.7-bin-hadoop2.7/R/lib/SparkR/help/AnIndex\n",
            "spark-2.4.7-bin-hadoop2.7/R/lib/SparkR/help/SparkR.rdb\n",
            "spark-2.4.7-bin-hadoop2.7/R/lib/SparkR/DESCRIPTION\n",
            "spark-2.4.7-bin-hadoop2.7/R/lib/SparkR/INDEX\n",
            "spark-2.4.7-bin-hadoop2.7/R/lib/SparkR/R/\n",
            "spark-2.4.7-bin-hadoop2.7/R/lib/SparkR/R/SparkR\n",
            "spark-2.4.7-bin-hadoop2.7/R/lib/SparkR/R/SparkR.rdx\n",
            "spark-2.4.7-bin-hadoop2.7/R/lib/SparkR/R/SparkR.rdb\n",
            "spark-2.4.7-bin-hadoop2.7/R/lib/sparkr.zip\n",
            "spark-2.4.7-bin-hadoop2.7/RELEASE\n",
            "spark-2.4.7-bin-hadoop2.7/jars/\n",
            "spark-2.4.7-bin-hadoop2.7/jars/hadoop-client-2.7.3.jar\n",
            "spark-2.4.7-bin-hadoop2.7/jars/compress-lzf-1.0.3.jar\n",
            "spark-2.4.7-bin-hadoop2.7/jars/activation-1.1.1.jar\n",
            "spark-2.4.7-bin-hadoop2.7/jars/json4s-scalap_2.11-3.5.3.jar\n",
            "spark-2.4.7-bin-hadoop2.7/jars/chill-java-0.9.3.jar\n",
            "spark-2.4.7-bin-hadoop2.7/jars/hk2-locator-2.4.0-b34.jar\n",
            "spark-2.4.7-bin-hadoop2.7/jars/validation-api-1.1.0.Final.jar\n",
            "spark-2.4.7-bin-hadoop2.7/jars/super-csv-2.2.0.jar\n",
            "spark-2.4.7-bin-hadoop2.7/jars/leveldbjni-all-1.8.jar\n",
            "spark-2.4.7-bin-hadoop2.7/jars/arrow-format-0.10.0.jar\n",
            "spark-2.4.7-bin-hadoop2.7/jars/hadoop-common-2.7.3.jar\n",
            "spark-2.4.7-bin-hadoop2.7/jars/spark-hive_2.11-2.4.7.jar\n",
            "spark-2.4.7-bin-hadoop2.7/jars/javassist-3.18.1-GA.jar\n",
            "spark-2.4.7-bin-hadoop2.7/jars/oro-2.0.8.jar\n",
            "spark-2.4.7-bin-hadoop2.7/jars/jersey-client-2.22.2.jar\n",
            "spark-2.4.7-bin-hadoop2.7/jars/parquet-encoding-1.10.1.jar\n",
            "spark-2.4.7-bin-hadoop2.7/jars/janino-3.0.16.jar\n",
            "spark-2.4.7-bin-hadoop2.7/jars/arrow-memory-0.10.0.jar\n",
            "spark-2.4.7-bin-hadoop2.7/jars/hadoop-mapreduce-client-core-2.7.3.jar\n",
            "spark-2.4.7-bin-hadoop2.7/jars/logging-interceptor-3.12.0.jar\n",
            "spark-2.4.7-bin-hadoop2.7/jars/flatbuffers-1.2.0-3f79e055.jar\n",
            "spark-2.4.7-bin-hadoop2.7/jars/slf4j-log4j12-1.7.16.jar\n",
            "spark-2.4.7-bin-hadoop2.7/jars/guava-14.0.1.jar\n",
            "spark-2.4.7-bin-hadoop2.7/jars/datanucleus-core-3.2.10.jar\n",
            "spark-2.4.7-bin-hadoop2.7/jars/calcite-core-1.2.0-incubating.jar\n",
            "spark-2.4.7-bin-hadoop2.7/jars/antlr-2.7.7.jar\n",
            "spark-2.4.7-bin-hadoop2.7/jars/jackson-core-2.6.7.jar\n",
            "spark-2.4.7-bin-hadoop2.7/jars/jaxb-api-2.2.2.jar\n",
            "spark-2.4.7-bin-hadoop2.7/jars/commons-configuration-1.6.jar\n",
            "spark-2.4.7-bin-hadoop2.7/jars/json4s-ast_2.11-3.5.3.jar\n",
            "spark-2.4.7-bin-hadoop2.7/jars/hive-jdbc-1.2.1.spark2.jar\n",
            "spark-2.4.7-bin-hadoop2.7/jars/jackson-module-jaxb-annotations-2.6.7.jar\n",
            "spark-2.4.7-bin-hadoop2.7/jars/bonecp-0.8.0.RELEASE.jar\n",
            "spark-2.4.7-bin-hadoop2.7/jars/spark-hive-thriftserver_2.11-2.4.7.jar\n",
            "spark-2.4.7-bin-hadoop2.7/jars/hadoop-yarn-client-2.7.3.jar\n",
            "spark-2.4.7-bin-hadoop2.7/jars/machinist_2.11-0.6.1.jar\n",
            "spark-2.4.7-bin-hadoop2.7/jars/kubernetes-model-common-4.6.1.jar\n",
            "spark-2.4.7-bin-hadoop2.7/jars/hive-beeline-1.2.1.spark2.jar\n",
            "spark-2.4.7-bin-hadoop2.7/jars/libthrift-0.9.3.jar\n",
            "spark-2.4.7-bin-hadoop2.7/jars/commons-pool-1.5.4.jar\n",
            "spark-2.4.7-bin-hadoop2.7/jars/metrics-graphite-3.1.5.jar\n",
            "spark-2.4.7-bin-hadoop2.7/jars/libfb303-0.9.3.jar\n",
            "spark-2.4.7-bin-hadoop2.7/jars/commons-lang-2.6.jar\n",
            "spark-2.4.7-bin-hadoop2.7/jars/pyrolite-4.13.jar\n",
            "spark-2.4.7-bin-hadoop2.7/jars/lz4-java-1.4.0.jar\n",
            "spark-2.4.7-bin-hadoop2.7/jars/orc-core-1.5.5-nohive.jar\n",
            "spark-2.4.7-bin-hadoop2.7/jars/calcite-linq4j-1.2.0-incubating.jar\n",
            "spark-2.4.7-bin-hadoop2.7/jars/hk2-api-2.4.0-b34.jar\n",
            "spark-2.4.7-bin-hadoop2.7/jars/snakeyaml-1.15.jar\n",
            "spark-2.4.7-bin-hadoop2.7/jars/shapeless_2.11-2.3.2.jar\n",
            "spark-2.4.7-bin-hadoop2.7/jars/arrow-vector-0.10.0.jar\n",
            "spark-2.4.7-bin-hadoop2.7/jars/spark-tags_2.11-2.4.7-tests.jar\n",
            "spark-2.4.7-bin-hadoop2.7/jars/jackson-module-paranamer-2.7.9.jar\n",
            "spark-2.4.7-bin-hadoop2.7/jars/api-asn1-api-1.0.0-M20.jar\n",
            "spark-2.4.7-bin-hadoop2.7/jars/minlog-1.3.0.jar\n",
            "spark-2.4.7-bin-hadoop2.7/jars/spark-yarn_2.11-2.4.7.jar\n",
            "spark-2.4.7-bin-hadoop2.7/jars/curator-framework-2.7.1.jar\n",
            "spark-2.4.7-bin-hadoop2.7/jars/commons-compress-1.8.1.jar\n",
            "spark-2.4.7-bin-hadoop2.7/jars/javax.ws.rs-api-2.0.1.jar\n",
            "spark-2.4.7-bin-hadoop2.7/jars/scala-compiler-2.11.12.jar\n",
            "spark-2.4.7-bin-hadoop2.7/jars/jackson-xc-1.9.13.jar\n",
            "spark-2.4.7-bin-hadoop2.7/jars/jackson-databind-2.6.7.3.jar\n",
            "spark-2.4.7-bin-hadoop2.7/jars/jersey-media-jaxb-2.22.2.jar\n",
            "spark-2.4.7-bin-hadoop2.7/jars/arpack_combined_all-0.1.jar\n",
            "spark-2.4.7-bin-hadoop2.7/jars/gson-2.2.4.jar\n",
            "spark-2.4.7-bin-hadoop2.7/jars/hadoop-yarn-api-2.7.3.jar\n",
            "spark-2.4.7-bin-hadoop2.7/jars/parquet-hadoop-1.10.1.jar\n",
            "spark-2.4.7-bin-hadoop2.7/jars/apacheds-i18n-2.0.0-M15.jar\n",
            "spark-2.4.7-bin-hadoop2.7/jars/metrics-json-3.1.5.jar\n",
            "spark-2.4.7-bin-hadoop2.7/jars/hk2-utils-2.4.0-b34.jar\n",
            "spark-2.4.7-bin-hadoop2.7/jars/log4j-1.2.17.jar\n",
            "spark-2.4.7-bin-hadoop2.7/jars/javolution-5.5.1.jar\n",
            "spark-2.4.7-bin-hadoop2.7/jars/macro-compat_2.11-1.1.1.jar\n",
            "spark-2.4.7-bin-hadoop2.7/jars/aopalliance-repackaged-2.4.0-b34.jar\n",
            "spark-2.4.7-bin-hadoop2.7/jars/spark-graphx_2.11-2.4.7.jar\n",
            "spark-2.4.7-bin-hadoop2.7/jars/commons-beanutils-1.9.4.jar\n",
            "spark-2.4.7-bin-hadoop2.7/jars/xz-1.5.jar\n",
            "spark-2.4.7-bin-hadoop2.7/jars/xmlenc-0.52.jar\n",
            "spark-2.4.7-bin-hadoop2.7/jars/jersey-container-servlet-2.22.2.jar\n",
            "spark-2.4.7-bin-hadoop2.7/jars/jcl-over-slf4j-1.7.16.jar\n",
            "spark-2.4.7-bin-hadoop2.7/jars/parquet-format-2.4.0.jar\n",
            "spark-2.4.7-bin-hadoop2.7/jars/spark-streaming_2.11-2.4.7.jar\n",
            "spark-2.4.7-bin-hadoop2.7/jars/spark-sql_2.11-2.4.7.jar\n",
            "spark-2.4.7-bin-hadoop2.7/jars/jdo-api-3.0.1.jar\n",
            "spark-2.4.7-bin-hadoop2.7/jars/jpam-1.1.jar\n",
            "spark-2.4.7-bin-hadoop2.7/jars/spark-tags_2.11-2.4.7.jar\n",
            "spark-2.4.7-bin-hadoop2.7/jars/json4s-core_2.11-3.5.3.jar\n",
            "spark-2.4.7-bin-hadoop2.7/jars/core-1.1.2.jar\n",
            "spark-2.4.7-bin-hadoop2.7/jars/hppc-0.7.2.jar\n",
            "spark-2.4.7-bin-hadoop2.7/jars/datanucleus-api-jdo-3.2.6.jar\n",
            "spark-2.4.7-bin-hadoop2.7/jars/commons-math3-3.4.1.jar\n",
            "spark-2.4.7-bin-hadoop2.7/jars/spark-network-common_2.11-2.4.7.jar\n",
            "spark-2.4.7-bin-hadoop2.7/jars/commons-net-3.1.jar\n",
            "spark-2.4.7-bin-hadoop2.7/jars/commons-compiler-3.0.16.jar\n",
            "spark-2.4.7-bin-hadoop2.7/jars/spire_2.11-0.13.0.jar\n",
            "spark-2.4.7-bin-hadoop2.7/jars/aircompressor-0.10.jar\n",
            "spark-2.4.7-bin-hadoop2.7/jars/derby-10.12.1.1.jar\n",
            "spark-2.4.7-bin-hadoop2.7/jars/datanucleus-rdbms-3.2.9.jar\n",
            "spark-2.4.7-bin-hadoop2.7/jars/hadoop-mapreduce-client-jobclient-2.7.3.jar\n",
            "spark-2.4.7-bin-hadoop2.7/jars/avro-1.8.2.jar\n",
            "spark-2.4.7-bin-hadoop2.7/jars/chill_2.11-0.9.3.jar\n",
            "spark-2.4.7-bin-hadoop2.7/jars/hadoop-auth-2.7.3.jar\n",
            "spark-2.4.7-bin-hadoop2.7/jars/stream-2.7.0.jar\n",
            "spark-2.4.7-bin-hadoop2.7/jars/apacheds-kerberos-codec-2.0.0-M15.jar\n",
            "spark-2.4.7-bin-hadoop2.7/jars/antlr4-runtime-4.7.jar\n",
            "spark-2.4.7-bin-hadoop2.7/jars/osgi-resource-locator-1.0.1.jar\n",
            "spark-2.4.7-bin-hadoop2.7/jars/httpcore-4.4.10.jar\n",
            "spark-2.4.7-bin-hadoop2.7/jars/ivy-2.4.0.jar\n",
            "spark-2.4.7-bin-hadoop2.7/jars/kryo-shaded-4.0.2.jar\n",
            "spark-2.4.7-bin-hadoop2.7/jars/jackson-module-scala_2.11-2.6.7.1.jar\n",
            "spark-2.4.7-bin-hadoop2.7/jars/orc-shims-1.5.5.jar\n",
            "spark-2.4.7-bin-hadoop2.7/jars/curator-recipes-2.7.1.jar\n",
            "spark-2.4.7-bin-hadoop2.7/jars/json4s-jackson_2.11-3.5.3.jar\n",
            "spark-2.4.7-bin-hadoop2.7/jars/commons-cli-1.2.jar\n",
            "spark-2.4.7-bin-hadoop2.7/jars/slf4j-api-1.7.16.jar\n",
            "spark-2.4.7-bin-hadoop2.7/jars/jetty-6.1.26.jar\n",
            "spark-2.4.7-bin-hadoop2.7/jars/spark-catalyst_2.11-2.4.7.jar\n",
            "spark-2.4.7-bin-hadoop2.7/jars/stax-api-1.0.1.jar\n",
            "spark-2.4.7-bin-hadoop2.7/jars/eigenbase-properties-1.1.5.jar\n",
            "spark-2.4.7-bin-hadoop2.7/jars/spark-unsafe_2.11-2.4.7.jar\n",
            "spark-2.4.7-bin-hadoop2.7/jars/commons-io-2.4.jar\n",
            "spark-2.4.7-bin-hadoop2.7/jars/javax.inject-1.jar\n",
            "spark-2.4.7-bin-hadoop2.7/jars/guice-3.0.jar\n",
            "spark-2.4.7-bin-hadoop2.7/jars/commons-logging-1.1.3.jar\n",
            "spark-2.4.7-bin-hadoop2.7/jars/spark-mllib_2.11-2.4.7.jar\n",
            "spark-2.4.7-bin-hadoop2.7/jars/hadoop-mapreduce-client-common-2.7.3.jar\n",
            "spark-2.4.7-bin-hadoop2.7/jars/zjsonpatch-0.3.0.jar\n",
            "spark-2.4.7-bin-hadoop2.7/jars/spark-sketch_2.11-2.4.7.jar\n",
            "spark-2.4.7-bin-hadoop2.7/jars/univocity-parsers-2.7.3.jar\n",
            "spark-2.4.7-bin-hadoop2.7/jars/scala-reflect-2.11.12.jar\n",
            "spark-2.4.7-bin-hadoop2.7/jars/jsp-api-2.1.jar\n",
            "spark-2.4.7-bin-hadoop2.7/jars/kubernetes-model-4.6.1.jar\n",
            "spark-2.4.7-bin-hadoop2.7/jars/parquet-jackson-1.10.1.jar\n",
            "spark-2.4.7-bin-hadoop2.7/jars/jackson-core-asl-1.9.13.jar\n",
            "spark-2.4.7-bin-hadoop2.7/jars/aopalliance-1.0.jar\n",
            "spark-2.4.7-bin-hadoop2.7/jars/hadoop-yarn-server-web-proxy-2.7.3.jar\n",
            "spark-2.4.7-bin-hadoop2.7/jars/metrics-jvm-3.1.5.jar\n",
            "spark-2.4.7-bin-hadoop2.7/jars/spark-mesos_2.11-2.4.7.jar\n",
            "spark-2.4.7-bin-hadoop2.7/jars/hive-cli-1.2.1.spark2.jar\n",
            "spark-2.4.7-bin-hadoop2.7/jars/apache-log4j-extras-1.2.17.jar\n",
            "spark-2.4.7-bin-hadoop2.7/jars/guice-servlet-3.0.jar\n",
            "spark-2.4.7-bin-hadoop2.7/jars/commons-dbcp-1.4.jar\n",
            "spark-2.4.7-bin-hadoop2.7/jars/netty-all-4.1.47.Final.jar\n",
            "spark-2.4.7-bin-hadoop2.7/jars/protobuf-java-2.5.0.jar\n",
            "spark-2.4.7-bin-hadoop2.7/jars/jta-1.1.jar\n",
            "spark-2.4.7-bin-hadoop2.7/jars/netty-3.9.9.Final.jar\n",
            "spark-2.4.7-bin-hadoop2.7/jars/orc-mapreduce-1.5.5-nohive.jar\n",
            "spark-2.4.7-bin-hadoop2.7/jars/spark-core_2.11-2.4.7.jar\n",
            "spark-2.4.7-bin-hadoop2.7/jars/scala-xml_2.11-1.0.5.jar\n",
            "spark-2.4.7-bin-hadoop2.7/jars/javax.annotation-api-1.2.jar\n",
            "spark-2.4.7-bin-hadoop2.7/jars/hadoop-yarn-common-2.7.3.jar\n",
            "spark-2.4.7-bin-hadoop2.7/jars/jackson-mapper-asl-1.9.13.jar\n",
            "spark-2.4.7-bin-hadoop2.7/jars/jul-to-slf4j-1.7.16.jar\n",
            "spark-2.4.7-bin-hadoop2.7/jars/spire-macros_2.11-0.13.0.jar\n",
            "spark-2.4.7-bin-hadoop2.7/jars/javax.servlet-api-3.1.0.jar\n",
            "spark-2.4.7-bin-hadoop2.7/jars/hive-exec-1.2.1.spark2.jar\n",
            "spark-2.4.7-bin-hadoop2.7/jars/mesos-1.4.0-shaded-protobuf.jar\n",
            "spark-2.4.7-bin-hadoop2.7/jars/jodd-core-3.5.2.jar\n",
            "spark-2.4.7-bin-hadoop2.7/jars/curator-client-2.7.1.jar\n",
            "spark-2.4.7-bin-hadoop2.7/jars/zookeeper-3.4.6.jar\n",
            "spark-2.4.7-bin-hadoop2.7/jars/commons-digester-1.8.jar\n",
            "spark-2.4.7-bin-hadoop2.7/jars/xbean-asm6-shaded-4.8.jar\n",
            "spark-2.4.7-bin-hadoop2.7/jars/scala-parser-combinators_2.11-1.1.0.jar\n",
            "spark-2.4.7-bin-hadoop2.7/jars/spark-launcher_2.11-2.4.7.jar\n",
            "spark-2.4.7-bin-hadoop2.7/jars/jsr305-1.3.9.jar\n",
            "spark-2.4.7-bin-hadoop2.7/jars/scala-library-2.11.12.jar\n",
            "spark-2.4.7-bin-hadoop2.7/jars/jersey-container-servlet-core-2.22.2.jar\n",
            "spark-2.4.7-bin-hadoop2.7/jars/spark-repl_2.11-2.4.7.jar\n",
            "spark-2.4.7-bin-hadoop2.7/jars/jackson-jaxrs-1.9.13.jar\n",
            "spark-2.4.7-bin-hadoop2.7/jars/opencsv-2.3.jar\n",
            "spark-2.4.7-bin-hadoop2.7/jars/commons-lang3-3.5.jar\n",
            "spark-2.4.7-bin-hadoop2.7/jars/jetty-util-6.1.26.jar\n",
            "spark-2.4.7-bin-hadoop2.7/jars/generex-1.0.2.jar\n",
            "spark-2.4.7-bin-hadoop2.7/jars/joda-time-2.9.3.jar\n",
            "spark-2.4.7-bin-hadoop2.7/jars/shims-0.7.45.jar\n",
            "spark-2.4.7-bin-hadoop2.7/jars/objenesis-2.5.1.jar\n",
            "spark-2.4.7-bin-hadoop2.7/jars/commons-codec-1.10.jar\n",
            "spark-2.4.7-bin-hadoop2.7/jars/py4j-0.10.7.jar\n",
            "spark-2.4.7-bin-hadoop2.7/jars/avro-mapred-1.8.2-hadoop2.jar\n",
            "spark-2.4.7-bin-hadoop2.7/jars/RoaringBitmap-0.7.45.jar\n",
            "spark-2.4.7-bin-hadoop2.7/jars/zstd-jni-1.3.2-2.jar\n",
            "spark-2.4.7-bin-hadoop2.7/jars/hadoop-annotations-2.7.3.jar\n",
            "spark-2.4.7-bin-hadoop2.7/jars/commons-collections-3.2.2.jar\n",
            "spark-2.4.7-bin-hadoop2.7/jars/parquet-column-1.10.1.jar\n",
            "spark-2.4.7-bin-hadoop2.7/jars/commons-crypto-1.0.0.jar\n",
            "spark-2.4.7-bin-hadoop2.7/jars/spark-kvstore_2.11-2.4.7.jar\n",
            "spark-2.4.7-bin-hadoop2.7/jars/snappy-java-1.1.7.5.jar\n",
            "spark-2.4.7-bin-hadoop2.7/jars/httpclient-4.5.6.jar\n",
            "spark-2.4.7-bin-hadoop2.7/jars/spark-mllib-local_2.11-2.4.7.jar\n",
            "spark-2.4.7-bin-hadoop2.7/jars/okio-1.15.0.jar\n",
            "spark-2.4.7-bin-hadoop2.7/jars/hadoop-hdfs-2.7.3.jar\n",
            "spark-2.4.7-bin-hadoop2.7/jars/breeze_2.11-0.13.2.jar\n",
            "spark-2.4.7-bin-hadoop2.7/jars/hadoop-yarn-server-common-2.7.3.jar\n",
            "spark-2.4.7-bin-hadoop2.7/jars/paranamer-2.8.jar\n",
            "spark-2.4.7-bin-hadoop2.7/jars/commons-httpclient-3.1.jar\n",
            "spark-2.4.7-bin-hadoop2.7/jars/jersey-server-2.22.2.jar\n",
            "spark-2.4.7-bin-hadoop2.7/jars/jline-2.14.6.jar\n",
            "spark-2.4.7-bin-hadoop2.7/jars/spark-network-shuffle_2.11-2.4.7.jar\n",
            "spark-2.4.7-bin-hadoop2.7/jars/spark-kubernetes_2.11-2.4.7.jar\n",
            "spark-2.4.7-bin-hadoop2.7/jars/jackson-annotations-2.6.7.jar\n",
            "spark-2.4.7-bin-hadoop2.7/jars/parquet-common-1.10.1.jar\n",
            "spark-2.4.7-bin-hadoop2.7/jars/ST4-4.0.4.jar\n",
            "spark-2.4.7-bin-hadoop2.7/jars/htrace-core-3.1.0-incubating.jar\n",
            "spark-2.4.7-bin-hadoop2.7/jars/JavaEWAH-0.3.2.jar\n",
            "spark-2.4.7-bin-hadoop2.7/jars/api-util-1.0.0-M20.jar\n",
            "spark-2.4.7-bin-hadoop2.7/jars/parquet-hadoop-bundle-1.6.0.jar\n",
            "spark-2.4.7-bin-hadoop2.7/jars/breeze-macros_2.11-0.13.2.jar\n",
            "spark-2.4.7-bin-hadoop2.7/jars/snappy-0.2.jar\n",
            "spark-2.4.7-bin-hadoop2.7/jars/stringtemplate-3.2.1.jar\n",
            "spark-2.4.7-bin-hadoop2.7/jars/kubernetes-client-4.6.1.jar\n",
            "spark-2.4.7-bin-hadoop2.7/jars/automaton-1.11-8.jar\n",
            "spark-2.4.7-bin-hadoop2.7/jars/hive-metastore-1.2.1.spark2.jar\n",
            "spark-2.4.7-bin-hadoop2.7/jars/jersey-common-2.22.2.jar\n",
            "spark-2.4.7-bin-hadoop2.7/jars/javax.inject-2.4.0-b34.jar\n",
            "spark-2.4.7-bin-hadoop2.7/jars/okhttp-3.12.0.jar\n",
            "spark-2.4.7-bin-hadoop2.7/jars/antlr-runtime-3.4.jar\n",
            "spark-2.4.7-bin-hadoop2.7/jars/hadoop-mapreduce-client-app-2.7.3.jar\n",
            "spark-2.4.7-bin-hadoop2.7/jars/xercesImpl-2.9.1.jar\n",
            "spark-2.4.7-bin-hadoop2.7/jars/jersey-guava-2.22.2.jar\n",
            "spark-2.4.7-bin-hadoop2.7/jars/jtransforms-2.4.0.jar\n",
            "spark-2.4.7-bin-hadoop2.7/jars/hadoop-mapreduce-client-shuffle-2.7.3.jar\n",
            "spark-2.4.7-bin-hadoop2.7/jars/stax-api-1.0-2.jar\n",
            "spark-2.4.7-bin-hadoop2.7/jars/metrics-core-3.1.5.jar\n",
            "spark-2.4.7-bin-hadoop2.7/jars/jackson-dataformat-yaml-2.6.7.jar\n",
            "spark-2.4.7-bin-hadoop2.7/jars/avro-ipc-1.8.2.jar\n",
            "spark-2.4.7-bin-hadoop2.7/jars/calcite-avatica-1.2.0-incubating.jar\n"
          ],
          "name": "stdout"
        }
      ]
    },
    {
      "cell_type": "code",
      "metadata": {
        "id": "-FU66EXfd1Rl"
      },
      "source": [
        "!pip install -q findspark"
      ],
      "execution_count": null,
      "outputs": []
    },
    {
      "cell_type": "code",
      "metadata": {
        "id": "jB-CCdMzd5GZ"
      },
      "source": [
        "import os\n",
        "os.environ[\"JAVA_HOME\"] = \"/usr/lib/jvm/java-8-openjdk-amd64\"\n",
        "os.environ[\"SPARK_HOME\"] = \"/content/spark-2.4.7-bin-hadoop2.7\""
      ],
      "execution_count": null,
      "outputs": []
    },
    {
      "cell_type": "code",
      "metadata": {
        "id": "OERndGb_d8zg"
      },
      "source": [
        "import findspark\n",
        "findspark.init()\n",
        "from pyspark.sql import SparkSession\n",
        "\n",
        "spark = SparkSession.builder.master(\"local[*]\").getOrCreate()"
      ],
      "execution_count": null,
      "outputs": []
    },
    {
      "cell_type": "markdown",
      "metadata": {
        "id": "39OTDUfleDE_"
      },
      "source": [
        "## Загружаем набор данных"
      ]
    },
    {
      "cell_type": "markdown",
      "metadata": {
        "id": "ufgR7HnxeYcC"
      },
      "source": [
        "Predict survival on the Titanic\n",
        "* survival - Survival\t0 = No, 1 = Yes\n",
        "* pclass - Ticket class\t1 = 1st, 2 = 2nd, 3 = 3rd\n",
        "* sex\t- Sex\t\n",
        "* Age\t- Age in years\t\n",
        "* sibsp\t- # of siblings / spouses aboard the Titanic\t\n",
        "* parch\t- # of parents / children aboard the Titanic\t\n",
        "* ticket - Ticket number\t\n",
        "* fare -\tPassenger fare\t\n",
        "* cabin\t- Cabin number\t\n",
        "* embarked - Port of Embarkation\tC = Cherbourg, Q = Queenstown, S = Southampton"
      ]
    },
    {
      "cell_type": "code",
      "metadata": {
        "id": "vL3ejqfRd_bc",
        "colab": {
          "base_uri": "https://localhost:8080/",
          "height": 231
        },
        "outputId": "2c9e467d-b38c-42b2-e9f5-89a24aeb1d0b"
      },
      "source": [
        "!wget https://raw.githubusercontent.com/datasciencedojo/datasets/master/titanic.csv"
      ],
      "execution_count": null,
      "outputs": [
        {
          "output_type": "stream",
          "text": [
            "--2020-08-24 05:36:22--  https://gist.githubusercontent.com/michhar/2dfd2de0d4f8727f873422c5d959fff5/raw/fa71405126017e6a37bea592440b4bee94bf7b9e/titanic.csv\n",
            "Resolving gist.githubusercontent.com (gist.githubusercontent.com)... 151.101.0.133, 151.101.64.133, 151.101.128.133, ...\n",
            "Connecting to gist.githubusercontent.com (gist.githubusercontent.com)|151.101.0.133|:443... connected.\n",
            "HTTP request sent, awaiting response... 200 OK\n",
            "Length: 60301 (59K) [text/plain]\n",
            "Saving to: ‘titanic.csv’\n",
            "\n",
            "\rtitanic.csv           0%[                    ]       0  --.-KB/s               \rtitanic.csv         100%[===================>]  58.89K  --.-KB/s    in 0.03s   \n",
            "\n",
            "2020-08-24 05:36:23 (2.09 MB/s) - ‘titanic.csv’ saved [60301/60301]\n",
            "\n"
          ],
          "name": "stdout"
        }
      ]
    },
    {
      "cell_type": "markdown",
      "metadata": {
        "id": "lRRJ1yf-Htyt"
      },
      "source": [
        "## Практика 1. Загрузите файл titanic.csv и выведите его командой show"
      ]
    },
    {
      "cell_type": "code",
      "metadata": {
        "id": "Z66OGQ6AH1Aj"
      },
      "source": [
        ""
      ],
      "execution_count": null,
      "outputs": []
    },
    {
      "cell_type": "markdown",
      "metadata": {
        "id": "RdaaStpbfzgg"
      },
      "source": [
        "## Посмотрим общую статистику по нашему датафрейму\n",
        "Для этого воспользуемся командой describe"
      ]
    },
    {
      "cell_type": "code",
      "metadata": {
        "id": "BegZo0dTf2tq",
        "colab": {
          "base_uri": "https://localhost:8080/",
          "height": 213
        },
        "outputId": "b4aa0c92-236f-46d0-80a3-1ece99aaf032"
      },
      "source": [
        "df.describe().show()"
      ],
      "execution_count": null,
      "outputs": [
        {
          "output_type": "stream",
          "text": [
            "+-------+-----------------+-------------------+------------------+--------------------+------+------------------+------------------+-------------------+------------------+-----------------+-----+--------+\n",
            "|summary|      PassengerId|           Survived|            Pclass|                Name|   Sex|               Age|             SibSp|              Parch|            Ticket|             Fare|Cabin|Embarked|\n",
            "+-------+-----------------+-------------------+------------------+--------------------+------+------------------+------------------+-------------------+------------------+-----------------+-----+--------+\n",
            "|  count|              891|                891|               891|                 891|   891|               714|               891|                891|               891|              891|  204|     889|\n",
            "|   mean|            446.0| 0.3838383838383838| 2.308641975308642|                null|  null| 29.69911764705882|0.5230078563411896|0.38159371492704824|260318.54916792738| 32.2042079685746| null|    null|\n",
            "| stddev|257.3538420152301|0.48659245426485753|0.8360712409770491|                null|  null|14.526497332334035|1.1027434322934315| 0.8060572211299488|471609.26868834975|49.69342859718089| null|    null|\n",
            "|    min|                1|                  0|                 1|\"Andersson, Mr. A...|female|              0.42|                 0|                  0|            110152|              0.0|  A10|       C|\n",
            "|    max|              891|                  1|                 3|van Melkebeke, Mr...|  male|              80.0|                 8|                  6|         WE/P 5735|         512.3292|    T|       S|\n",
            "+-------+-----------------+-------------------+------------------+--------------------+------+------------------+------------------+-------------------+------------------+-----------------+-----+--------+\n",
            "\n"
          ],
          "name": "stdout"
        }
      ]
    },
    {
      "cell_type": "markdown",
      "metadata": {
        "id": "fKHtss-VfNQe"
      },
      "source": [
        "## Практика 2. Удалим малоинформативные колонки\n",
        "Колонка с идентификатором пассажира (PassengerId), именем (Name), информация о родственниках (SibSp, Parch),номер билета (Ticket) и информация о каюте (Cabin) кажутся малоинформативными для первой версии модели. Удалим их при помощи команды select"
      ]
    },
    {
      "cell_type": "code",
      "metadata": {
        "id": "8xkXLa5HIC8x"
      },
      "source": [
        ""
      ],
      "execution_count": null,
      "outputs": []
    },
    {
      "cell_type": "markdown",
      "metadata": {
        "id": "cLazPPiHgmnl"
      },
      "source": [
        "## Практика 3. Колонки Age и Embarked содержат пропущенные значения.\n",
        "Пропуски надо заполнить\n",
        "Для поля Age предлагается заполнить пропуски средним значением возвраста (информация по нему есть в describe)\n",
        "Для поля Embarked самым частым вариантом (надо сгруппировать данные и посчитать какой порт самый частый)\n",
        "Затем при помощи команды:\n",
        "\n",
        "```\n",
        "df_filtered = df_filtered.na.fill({'Age': XX, 'Embarked': YY})\n",
        "```\n",
        "\n",
        "устранить пропуски"
      ]
    },
    {
      "cell_type": "code",
      "metadata": {
        "id": "McCJhm0yIIwm"
      },
      "source": [
        ""
      ],
      "execution_count": null,
      "outputs": []
    },
    {
      "cell_type": "markdown",
      "metadata": {
        "id": "nFppkpIV-FfW"
      },
      "source": [
        "## Работа со строковыми колонками\n",
        "У нас осталось 2 колонки, содержащих строковые данные:\n",
        "* Sex\n",
        "* Embarked\n",
        "Первую мы преобразуем в 0 и 1\n",
        "Вторую закодируем по принципу OneHot\n",
        "\n",
        "Для этого нам помогут специальные классы в PySpark:\n",
        "* StringIndexer - https://spark.apache.org/docs/latest/ml-features#stringindexer\n",
        "* OneHotEncoderEstimator - https://spark.apache.org/docs/latest/ml-features#onehotencoder"
      ]
    },
    {
      "cell_type": "code",
      "metadata": {
        "id": "e-D8RRNgh2BL"
      },
      "source": [
        "from pyspark.ml.feature import StringIndexer, OneHotEncoder"
      ],
      "execution_count": null,
      "outputs": []
    },
    {
      "cell_type": "code",
      "metadata": {
        "id": "X85_FtES-9Sw"
      },
      "source": [
        "indexer = StringIndexer(inputCol='Sex', outputCol='SexInd')\n",
        "indexerTrained = indexer.fit(df_filtered)\n",
        "df_features = indexerTrained.transform(df_filtered)"
      ],
      "execution_count": null,
      "outputs": []
    },
    {
      "cell_type": "code",
      "metadata": {
        "id": "A0iZRvQW_cGN",
        "colab": {
          "base_uri": "https://localhost:8080/",
          "height": 55
        },
        "outputId": "6b7b6dd1-4480-4ecb-93c5-826344260c75"
      },
      "source": [
        "indexerTrained.labels"
      ],
      "execution_count": null,
      "outputs": [
        {
          "output_type": "execute_result",
          "data": {
            "text/plain": [
              "['male', 'female']"
            ]
          },
          "metadata": {
            "tags": []
          },
          "execution_count": 59
        }
      ]
    },
    {
      "cell_type": "code",
      "metadata": {
        "id": "dkQAll-9_Nlm",
        "colab": {
          "base_uri": "https://localhost:8080/",
          "height": 495
        },
        "outputId": "9f1291f3-4aa8-4577-aea5-42a7b2294398"
      },
      "source": [
        "df_features.show()"
      ],
      "execution_count": null,
      "outputs": [
        {
          "output_type": "stream",
          "text": [
            "+-----------+--------+------+------+----+-------+--------+------+\n",
            "|PassengerId|Survived|Pclass|   Sex| Age|   Fare|Embarked|SexInd|\n",
            "+-----------+--------+------+------+----+-------+--------+------+\n",
            "|          1|       0|     3|  male|22.0|   7.25|       S|   0.0|\n",
            "|          2|       1|     1|female|38.0|71.2833|       C|   1.0|\n",
            "|          3|       1|     3|female|26.0|  7.925|       S|   1.0|\n",
            "|          4|       1|     1|female|35.0|   53.1|       S|   1.0|\n",
            "|          5|       0|     3|  male|35.0|   8.05|       S|   0.0|\n",
            "|          6|       0|     3|  male|29.7| 8.4583|       Q|   0.0|\n",
            "|          7|       0|     1|  male|54.0|51.8625|       S|   0.0|\n",
            "|          8|       0|     3|  male| 2.0| 21.075|       S|   0.0|\n",
            "|          9|       1|     3|female|27.0|11.1333|       S|   1.0|\n",
            "|         10|       1|     2|female|14.0|30.0708|       C|   1.0|\n",
            "|         11|       1|     3|female| 4.0|   16.7|       S|   1.0|\n",
            "|         12|       1|     1|female|58.0|  26.55|       S|   1.0|\n",
            "|         13|       0|     3|  male|20.0|   8.05|       S|   0.0|\n",
            "|         14|       0|     3|  male|39.0| 31.275|       S|   0.0|\n",
            "|         15|       0|     3|female|14.0| 7.8542|       S|   1.0|\n",
            "|         16|       1|     2|female|55.0|   16.0|       S|   1.0|\n",
            "|         17|       0|     3|  male| 2.0| 29.125|       Q|   0.0|\n",
            "|         18|       1|     2|  male|29.7|   13.0|       S|   0.0|\n",
            "|         19|       0|     3|female|31.0|   18.0|       S|   1.0|\n",
            "|         20|       1|     3|female|29.7|  7.225|       C|   1.0|\n",
            "+-----------+--------+------+------+----+-------+--------+------+\n",
            "only showing top 20 rows\n",
            "\n"
          ],
          "name": "stdout"
        }
      ]
    },
    {
      "cell_type": "markdown",
      "metadata": {
        "id": "1sKSOcXoIQux"
      },
      "source": [
        "## Практика 4.\n",
        "Преобразуйте колонку Embarked.\n",
        "Сначала надо при помощи StringIndexer преобразовать колонку Embarked в колонку EmbarkedInd с цифровыми кодами\n",
        "Затем сделать OneHotEncoder, который колонку EmbarkedInd превратит в колонку EmbarkedOhe. Обратите внимание у OneHotEncoder'а нет метода fit. Его можно сразу применять методом transform"
      ]
    },
    {
      "cell_type": "code",
      "metadata": {
        "id": "yOFgeeIHIq_g"
      },
      "source": [
        ""
      ],
      "execution_count": null,
      "outputs": []
    },
    {
      "cell_type": "markdown",
      "metadata": {
        "id": "NbgVsy6zB28S"
      },
      "source": [
        "## Практика 5. Дальше нужно собрать все признаки в единый вектор для работы машинного обучения.\n",
        "Для этого используется VectorAssembler\n",
        "https://spark.apache.org/docs/latest/ml-features.html#vectorassembler"
      ]
    },
    {
      "cell_type": "code",
      "metadata": {
        "id": "m-8QnsaSI0ub"
      },
      "source": [
        ""
      ],
      "execution_count": null,
      "outputs": []
    },
    {
      "cell_type": "markdown",
      "metadata": {
        "id": "ufmJHf6eDeb2"
      },
      "source": [
        "## Повторимость\n",
        "Часто нам нужно все указанные шаги по подготовке признаков делать не один раз, а несколько - для предсказания каждого нового значения.\n",
        "Тогда их логично объединить в Pipeline преобразования и применять как единую операцию\n",
        "\n",
        "https://spark.apache.org/docs/latest/ml-pipeline.html\n",
        "\n"
      ]
    },
    {
      "cell_type": "code",
      "metadata": {
        "id": "bjGKze4JCohS"
      },
      "source": [
        "from pyspark.ml import Pipeline"
      ],
      "execution_count": null,
      "outputs": []
    },
    {
      "cell_type": "code",
      "metadata": {
        "id": "KK30QQ_dD6Yk"
      },
      "source": [
        "pipeline = Pipeline(stages = \n",
        "[\n",
        "  StringIndexer(inputCol='Sex', outputCol='SexInd'),\n",
        "  StringIndexer(inputCol='Embarked', outputCol='EmbarkedInd'),\n",
        "  OneHotEncoder(inputCol='EmbarkedInd', outputCol = 'EmbarkedOhe'),\n",
        "  VectorAssembler(inputCols=['Pclass', 'Age', 'Fare', 'SexInd', 'EmbarkedOhe'], outputCol='Features')\n",
        "]\n",
        ")"
      ],
      "execution_count": null,
      "outputs": []
    },
    {
      "cell_type": "code",
      "metadata": {
        "id": "t7MVk__REPdt"
      },
      "source": [
        "pipelineTrained = pipeline.fit(df_filtered)"
      ],
      "execution_count": null,
      "outputs": []
    },
    {
      "cell_type": "code",
      "metadata": {
        "id": "VJTAvFvrET6a",
        "colab": {
          "base_uri": "https://localhost:8080/",
          "height": 495
        },
        "outputId": "712db1c1-115d-4e09-e711-9eb07bb07b0b"
      },
      "source": [
        "pipelineTrained.transform(df_filtered).show()"
      ],
      "execution_count": null,
      "outputs": [
        {
          "output_type": "stream",
          "text": [
            "+-----------+--------+------+------+----+-------+--------+------+-----------+-------------+--------------------+\n",
            "|PassengerId|Survived|Pclass|   Sex| Age|   Fare|Embarked|SexInd|EmbarkedInd|  EmbarkedOhe|            Features|\n",
            "+-----------+--------+------+------+----+-------+--------+------+-----------+-------------+--------------------+\n",
            "|          1|       0|     3|  male|22.0|   7.25|       S|   0.0|        0.0|(2,[0],[1.0])|[3.0,22.0,7.25,0....|\n",
            "|          2|       1|     1|female|38.0|71.2833|       C|   1.0|        1.0|(2,[1],[1.0])|[1.0,38.0,71.2833...|\n",
            "|          3|       1|     3|female|26.0|  7.925|       S|   1.0|        0.0|(2,[0],[1.0])|[3.0,26.0,7.925,1...|\n",
            "|          4|       1|     1|female|35.0|   53.1|       S|   1.0|        0.0|(2,[0],[1.0])|[1.0,35.0,53.1,1....|\n",
            "|          5|       0|     3|  male|35.0|   8.05|       S|   0.0|        0.0|(2,[0],[1.0])|[3.0,35.0,8.05,0....|\n",
            "|          6|       0|     3|  male|29.7| 8.4583|       Q|   0.0|        2.0|    (2,[],[])|[3.0,29.7,8.4583,...|\n",
            "|          7|       0|     1|  male|54.0|51.8625|       S|   0.0|        0.0|(2,[0],[1.0])|[1.0,54.0,51.8625...|\n",
            "|          8|       0|     3|  male| 2.0| 21.075|       S|   0.0|        0.0|(2,[0],[1.0])|[3.0,2.0,21.075,0...|\n",
            "|          9|       1|     3|female|27.0|11.1333|       S|   1.0|        0.0|(2,[0],[1.0])|[3.0,27.0,11.1333...|\n",
            "|         10|       1|     2|female|14.0|30.0708|       C|   1.0|        1.0|(2,[1],[1.0])|[2.0,14.0,30.0708...|\n",
            "|         11|       1|     3|female| 4.0|   16.7|       S|   1.0|        0.0|(2,[0],[1.0])|[3.0,4.0,16.7,1.0...|\n",
            "|         12|       1|     1|female|58.0|  26.55|       S|   1.0|        0.0|(2,[0],[1.0])|[1.0,58.0,26.55,1...|\n",
            "|         13|       0|     3|  male|20.0|   8.05|       S|   0.0|        0.0|(2,[0],[1.0])|[3.0,20.0,8.05,0....|\n",
            "|         14|       0|     3|  male|39.0| 31.275|       S|   0.0|        0.0|(2,[0],[1.0])|[3.0,39.0,31.275,...|\n",
            "|         15|       0|     3|female|14.0| 7.8542|       S|   1.0|        0.0|(2,[0],[1.0])|[3.0,14.0,7.8542,...|\n",
            "|         16|       1|     2|female|55.0|   16.0|       S|   1.0|        0.0|(2,[0],[1.0])|[2.0,55.0,16.0,1....|\n",
            "|         17|       0|     3|  male| 2.0| 29.125|       Q|   0.0|        2.0|    (2,[],[])|[3.0,2.0,29.125,0...|\n",
            "|         18|       1|     2|  male|29.7|   13.0|       S|   0.0|        0.0|(2,[0],[1.0])|[2.0,29.7,13.0,0....|\n",
            "|         19|       0|     3|female|31.0|   18.0|       S|   1.0|        0.0|(2,[0],[1.0])|[3.0,31.0,18.0,1....|\n",
            "|         20|       1|     3|female|29.7|  7.225|       C|   1.0|        1.0|(2,[1],[1.0])|[3.0,29.7,7.225,1...|\n",
            "+-----------+--------+------+------+----+-------+--------+------+-----------+-------------+--------------------+\n",
            "only showing top 20 rows\n",
            "\n"
          ],
          "name": "stdout"
        }
      ]
    },
    {
      "cell_type": "code",
      "metadata": {
        "id": "VVYM-T_wFVDX"
      },
      "source": [
        "df_features = pipelineTrained.transform(df_filtered)"
      ],
      "execution_count": null,
      "outputs": []
    },
    {
      "cell_type": "markdown",
      "metadata": {
        "id": "GjMxxrInEerA"
      },
      "source": [
        "## Разобьем данные на данные для обучения и проверки"
      ]
    },
    {
      "cell_type": "code",
      "metadata": {
        "id": "Hj9FZxr-EXi0"
      },
      "source": [
        "train, test = df_features.randomSplit([0.8, 0.2], seed=12345)"
      ],
      "execution_count": null,
      "outputs": []
    },
    {
      "cell_type": "code",
      "metadata": {
        "id": "Rq_EQCXVFRJ3",
        "colab": {
          "base_uri": "https://localhost:8080/",
          "height": 495
        },
        "outputId": "2479bb38-8901-4337-997e-6352512b5166"
      },
      "source": [
        "train.show()"
      ],
      "execution_count": null,
      "outputs": [
        {
          "output_type": "stream",
          "text": [
            "+-----------+--------+------+------+----+-------+--------+------+-----------+-------------+--------------------+\n",
            "|PassengerId|Survived|Pclass|   Sex| Age|   Fare|Embarked|SexInd|EmbarkedInd|  EmbarkedOhe|            Features|\n",
            "+-----------+--------+------+------+----+-------+--------+------+-----------+-------------+--------------------+\n",
            "|          1|       0|     3|  male|22.0|   7.25|       S|   0.0|        0.0|(2,[0],[1.0])|[3.0,22.0,7.25,0....|\n",
            "|          2|       1|     1|female|38.0|71.2833|       C|   1.0|        1.0|(2,[1],[1.0])|[1.0,38.0,71.2833...|\n",
            "|          3|       1|     3|female|26.0|  7.925|       S|   1.0|        0.0|(2,[0],[1.0])|[3.0,26.0,7.925,1...|\n",
            "|          4|       1|     1|female|35.0|   53.1|       S|   1.0|        0.0|(2,[0],[1.0])|[1.0,35.0,53.1,1....|\n",
            "|          6|       0|     3|  male|29.7| 8.4583|       Q|   0.0|        2.0|    (2,[],[])|[3.0,29.7,8.4583,...|\n",
            "|          7|       0|     1|  male|54.0|51.8625|       S|   0.0|        0.0|(2,[0],[1.0])|[1.0,54.0,51.8625...|\n",
            "|         10|       1|     2|female|14.0|30.0708|       C|   1.0|        1.0|(2,[1],[1.0])|[2.0,14.0,30.0708...|\n",
            "|         11|       1|     3|female| 4.0|   16.7|       S|   1.0|        0.0|(2,[0],[1.0])|[3.0,4.0,16.7,1.0...|\n",
            "|         12|       1|     1|female|58.0|  26.55|       S|   1.0|        0.0|(2,[0],[1.0])|[1.0,58.0,26.55,1...|\n",
            "|         13|       0|     3|  male|20.0|   8.05|       S|   0.0|        0.0|(2,[0],[1.0])|[3.0,20.0,8.05,0....|\n",
            "|         14|       0|     3|  male|39.0| 31.275|       S|   0.0|        0.0|(2,[0],[1.0])|[3.0,39.0,31.275,...|\n",
            "|         15|       0|     3|female|14.0| 7.8542|       S|   1.0|        0.0|(2,[0],[1.0])|[3.0,14.0,7.8542,...|\n",
            "|         19|       0|     3|female|31.0|   18.0|       S|   1.0|        0.0|(2,[0],[1.0])|[3.0,31.0,18.0,1....|\n",
            "|         20|       1|     3|female|29.7|  7.225|       C|   1.0|        1.0|(2,[1],[1.0])|[3.0,29.7,7.225,1...|\n",
            "|         21|       0|     2|  male|35.0|   26.0|       S|   0.0|        0.0|(2,[0],[1.0])|[2.0,35.0,26.0,0....|\n",
            "|         22|       1|     2|  male|34.0|   13.0|       S|   0.0|        0.0|(2,[0],[1.0])|[2.0,34.0,13.0,0....|\n",
            "|         23|       1|     3|female|15.0| 8.0292|       Q|   1.0|        2.0|    (2,[],[])|[3.0,15.0,8.0292,...|\n",
            "|         24|       1|     1|  male|28.0|   35.5|       S|   0.0|        0.0|(2,[0],[1.0])|[1.0,28.0,35.5,0....|\n",
            "|         25|       0|     3|female| 8.0| 21.075|       S|   1.0|        0.0|(2,[0],[1.0])|[3.0,8.0,21.075,1...|\n",
            "|         26|       1|     3|female|38.0|31.3875|       S|   1.0|        0.0|(2,[0],[1.0])|[3.0,38.0,31.3875...|\n",
            "+-----------+--------+------+------+----+-------+--------+------+-----------+-------------+--------------------+\n",
            "only showing top 20 rows\n",
            "\n"
          ],
          "name": "stdout"
        }
      ]
    },
    {
      "cell_type": "markdown",
      "metadata": {
        "id": "qjiImzktE3Rx"
      },
      "source": [
        "## Создадим и обучим модель логистической регрессии"
      ]
    },
    {
      "cell_type": "code",
      "metadata": {
        "id": "4QIgYk9VE1Ug"
      },
      "source": [
        "from pyspark.ml.classification import LogisticRegression"
      ],
      "execution_count": null,
      "outputs": []
    },
    {
      "cell_type": "code",
      "metadata": {
        "id": "DBcOuTtFFApc"
      },
      "source": [
        "lr = LogisticRegression(featuresCol = 'Features', labelCol = 'Survived')\n",
        "lrModel = lr.fit(train)"
      ],
      "execution_count": null,
      "outputs": []
    },
    {
      "cell_type": "code",
      "metadata": {
        "id": "tr9NN0dpFNTq"
      },
      "source": [
        "train_res = lrModel.transform(train)\n",
        "test_res = lrModel.transform(test)"
      ],
      "execution_count": null,
      "outputs": []
    },
    {
      "cell_type": "code",
      "metadata": {
        "id": "I-E255CQFnU6",
        "colab": {
          "base_uri": "https://localhost:8080/",
          "height": 495
        },
        "outputId": "4bb22184-9707-45f0-d413-d293e6348f27"
      },
      "source": [
        "train_res.show()"
      ],
      "execution_count": null,
      "outputs": [
        {
          "output_type": "stream",
          "text": [
            "+-----------+--------+------+------+----+-------+--------+------+-----------+-------------+--------------------+--------------------+--------------------+----------+\n",
            "|PassengerId|Survived|Pclass|   Sex| Age|   Fare|Embarked|SexInd|EmbarkedInd|  EmbarkedOhe|            Features|       rawPrediction|         probability|prediction|\n",
            "+-----------+--------+------+------+----+-------+--------+------+-----------+-------------+--------------------+--------------------+--------------------+----------+\n",
            "|          1|       0|     3|  male|22.0|   7.25|       S|   0.0|        0.0|(2,[0],[1.0])|[3.0,22.0,7.25,0....|[2.28851114991778...|[0.90792105716095...|       0.0|\n",
            "|          2|       1|     1|female|38.0|71.2833|       C|   1.0|        1.0|(2,[1],[1.0])|[1.0,38.0,71.2833...|[-2.7781883655360...|[0.05851427934696...|       1.0|\n",
            "|          3|       1|     3|female|26.0|  7.925|       S|   1.0|        0.0|(2,[0],[1.0])|[3.0,26.0,7.925,1...|[-0.2278559064623...|[0.44328120664877...|       1.0|\n",
            "|          4|       1|     1|female|35.0|   53.1|       S|   1.0|        0.0|(2,[0],[1.0])|[1.0,35.0,53.1,1....|[-2.3011033373266...|[0.09103162430914...|       1.0|\n",
            "|          6|       0|     3|  male|29.7| 8.4583|       Q|   0.0|        2.0|    (2,[],[])|[3.0,29.7,8.4583,...|[1.80901484451616...|[0.85924276715902...|       0.0|\n",
            "|          7|       0|     1|  male|54.0|51.8625|       S|   0.0|        0.0|(2,[0],[1.0])|[1.0,54.0,51.8625...|[0.98376257620647...|[0.72785415540926...|       0.0|\n",
            "|         10|       1|     2|female|14.0|30.0708|       C|   1.0|        1.0|(2,[1],[1.0])|[2.0,14.0,30.0708...|[-2.4179487911329...|[0.08181421148198...|       1.0|\n",
            "|         11|       1|     3|female| 4.0|   16.7|       S|   1.0|        0.0|(2,[0],[1.0])|[3.0,4.0,16.7,1.0...|[-0.9522344640157...|[0.27843567531198...|       1.0|\n",
            "|         12|       1|     1|female|58.0|  26.55|       S|   1.0|        0.0|(2,[0],[1.0])|[1.0,58.0,26.55,1...|[-1.5663859028402...|[0.17273222036830...|       1.0|\n",
            "|         13|       0|     3|  male|20.0|   8.05|       S|   0.0|        0.0|(2,[0],[1.0])|[3.0,20.0,8.05,0....|[2.22266150811849...|[0.90226614408165...|       0.0|\n",
            "|         14|       0|     3|  male|39.0| 31.275|       S|   0.0|        0.0|(2,[0],[1.0])|[3.0,39.0,31.275,...|[2.88830284465179...|[0.94726516641129...|       0.0|\n",
            "|         15|       0|     3|female|14.0| 7.8542|       S|   1.0|        0.0|(2,[0],[1.0])|[3.0,14.0,7.8542,...|[-0.6292853610493...|[0.34767259767317...|       1.0|\n",
            "|         19|       0|     3|female|31.0|   18.0|       S|   1.0|        0.0|(2,[0],[1.0])|[3.0,31.0,18.0,1....|[-0.0475353833513...|[0.48811839139734...|       1.0|\n",
            "|         20|       1|     3|female|29.7|  7.225|       C|   1.0|        1.0|(2,[1],[1.0])|[3.0,29.7,7.225,1...|[-0.7060761840071...|[0.33046643907266...|       1.0|\n",
            "|         21|       0|     2|  male|35.0|   26.0|       S|   0.0|        0.0|(2,[0],[1.0])|[2.0,35.0,26.0,0....|[1.53117970131334...|[0.82217885303143...|       0.0|\n",
            "|         22|       1|     2|  male|34.0|   13.0|       S|   0.0|        0.0|(2,[0],[1.0])|[2.0,34.0,13.0,0....|[1.48083608046249...|[0.81469883250828...|       0.0|\n",
            "|         23|       1|     3|female|15.0| 8.0292|       Q|   1.0|        2.0|    (2,[],[])|[3.0,15.0,8.0292,...|[-1.3342049239307...|[0.20846467209891...|       1.0|\n",
            "|         24|       1|     1|  male|28.0|   35.5|       S|   0.0|        0.0|(2,[0],[1.0])|[1.0,28.0,35.5,0....|[0.09292837955486...|[0.52321539056191...|       0.0|\n",
            "|         25|       0|     3|female| 8.0| 21.075|       S|   1.0|        0.0|(2,[0],[1.0])|[3.0,8.0,21.075,1...|[-0.8127682155135...|[0.30730091966554...|       1.0|\n",
            "|         26|       1|     3|female|38.0|31.3875|       S|   1.0|        0.0|(2,[0],[1.0])|[3.0,38.0,31.3875...|[0.20398066326032...|[0.55081908072569...|       0.0|\n",
            "+-----------+--------+------+------+----+-------+--------+------+-----------+-------------+--------------------+--------------------+--------------------+----------+\n",
            "only showing top 20 rows\n",
            "\n"
          ],
          "name": "stdout"
        }
      ]
    },
    {
      "cell_type": "markdown",
      "metadata": {
        "id": "WlJPPs4rFrwv"
      },
      "source": [
        "## Оценим качество\n",
        "Для оценки качества предсказания в spark реализованно несколько классов\n",
        "Если мы решаем задачу бинарной классификации (то есть классов - 2), то нам подойдет BinaryCLassificationEvaluator, а если классов больше 2-х, то MulticlassClassificationEvaluator"
      ]
    },
    {
      "cell_type": "code",
      "metadata": {
        "id": "HlxLMOYAFpNt"
      },
      "source": [
        "from pyspark.ml.evaluation import BinaryClassificationEvaluator"
      ],
      "execution_count": null,
      "outputs": []
    },
    {
      "cell_type": "code",
      "metadata": {
        "id": "6kDkBr1jGtv6"
      },
      "source": [
        "ev = BinaryClassificationEvaluator(labelCol='Survived')"
      ],
      "execution_count": null,
      "outputs": []
    },
    {
      "cell_type": "code",
      "metadata": {
        "id": "Yf1m2YR3G1oC",
        "colab": {
          "base_uri": "https://localhost:8080/",
          "height": 55
        },
        "outputId": "8094448a-ad83-4b9b-f94a-f842f2b0ac4a"
      },
      "source": [
        "ev.evaluate(train_res)"
      ],
      "execution_count": null,
      "outputs": [
        {
          "output_type": "execute_result",
          "data": {
            "text/plain": [
              "0.8603479853479851"
            ]
          },
          "metadata": {
            "tags": []
          },
          "execution_count": 91
        }
      ]
    },
    {
      "cell_type": "code",
      "metadata": {
        "id": "OYffHnj9G_-m",
        "colab": {
          "base_uri": "https://localhost:8080/",
          "height": 55
        },
        "outputId": "0bd71618-baea-4f84-d518-0904d6865990"
      },
      "source": [
        "ev.evaluate(test_res)"
      ],
      "execution_count": null,
      "outputs": [
        {
          "output_type": "execute_result",
          "data": {
            "text/plain": [
              "0.8184473654645547"
            ]
          },
          "metadata": {
            "tags": []
          },
          "execution_count": 92
        }
      ]
    },
    {
      "cell_type": "markdown",
      "metadata": {
        "id": "IWiuZZ5SJUip"
      },
      "source": [
        "## Практика 6. Обучите модель дерева решений и оцените его качество\n",
        "https://spark.apache.org/docs/latest/ml-classification-regression.html#decision-tree-classifier"
      ]
    },
    {
      "cell_type": "code",
      "metadata": {
        "id": "zHZB8WglLvh8"
      },
      "source": [
        ""
      ],
      "execution_count": null,
      "outputs": []
    },
    {
      "cell_type": "markdown",
      "metadata": {
        "id": "AlK_Jtj1J60h"
      },
      "source": [
        "## Домашнее задание\n",
        "Обучите модель классификации для цветков Iris'а\n",
        "\n",
        "Примерная последовательность действий:\n",
        "1. Взять данные - https://drive.google.com/file/d/18ksAxTxBkp15LToEg46BHhwp3sPIoeUU/view?usp=sharing\n",
        "2. Загрузить в pyspark\n",
        "3. При помощи VectorAssembler преобразовать все колонки с признаками в одну (использовать PipeLine - опционально)\n",
        "4. Разбить данные на train и test\n",
        "5. Создать модель логистической регресии или модель дерева и обучить ее\n",
        "6. Воспользоваться MulticlassClassificationEvaluator для оценки качества на train и test множестве"
      ]
    },
    {
      "cell_type": "code",
      "metadata": {
        "id": "nrZ5gN71J41T"
      },
      "source": [
        ""
      ],
      "execution_count": null,
      "outputs": []
    }
  ]
}